{
 "cells": [
  {
   "cell_type": "markdown",
   "id": "d07d448e",
   "metadata": {},
   "source": [
    "### Import necessary packages"
   ]
  },
  {
   "cell_type": "code",
   "execution_count": 1,
   "id": "acfdbfbb",
   "metadata": {},
   "outputs": [],
   "source": [
    "import warnings\n",
    "warnings.filterwarnings(\"ignore\")\n",
    "import pandas as pd\n",
    "import numpy as np\n",
    "import matplotlib.pyplot as plt\n",
    "import seaborn as sns\n",
    "%matplotlib inline\n",
    "pd.set_option('display.max_columns', 50)  # or 1000\n",
    "import matplotlib.patches as mpatches\n",
    "import matplotlib.pyplot as plt\n",
    "import numpy as np\n",
    "import pandas as pd\n",
    "import seaborn as sns\n",
    "\n",
    "import matplotlib.ticker as mtick\n",
    "import matplotlib.patches as mpatches\n",
    "\n",
    "from imblearn.metrics import classification_report_imbalanced\n",
    "from imblearn.over_sampling import SMOTE\n",
    "from imblearn.pipeline import make_pipeline as imbalanced_make_pipeline, Pipeline\n",
    "from imblearn.under_sampling import NearMiss\n",
    "\n",
    "from sklearn.decomposition import PCA, TruncatedSVD\n",
    "from sklearn.ensemble import RandomForestClassifier, GradientBoostingClassifier\n",
    "from sklearn.linear_model import LogisticRegression\n",
    "from sklearn.manifold import TSNE\n",
    "from sklearn.metrics import (accuracy_score, classification_report, f1_score,\n",
    "                             precision_recall_curve, precision_score,\n",
    "                             recall_score, roc_auc_score, roc_curve, RocCurveDisplay)\n",
    "from sklearn.model_selection import (GridSearchCV, KFold, RandomizedSearchCV,\n",
    "                                     ShuffleSplit, StratifiedKFold,\n",
    "                                     StratifiedShuffleSplit, cross_val_predict,\n",
    "                                     cross_val_score, learning_curve,\n",
    "                                     train_test_split)\n",
    "from sklearn.neighbors import KNeighborsClassifier\n",
    "from sklearn.pipeline import make_pipeline\n",
    "from sklearn.preprocessing import RobustScaler, StandardScaler,OneHotEncoder, MinMaxScaler\n",
    "from sklearn.svm import SVC\n",
    "from sklearn.tree import DecisionTreeClassifier\n",
    "\n",
    "from xgboost import XGBClassifier"
   ]
  },
  {
   "cell_type": "markdown",
   "id": "05562674",
   "metadata": {},
   "source": [
    "### Import Dataset"
   ]
  },
  {
   "cell_type": "code",
   "execution_count": 2,
   "id": "b24debec",
   "metadata": {},
   "outputs": [],
   "source": [
    "data = pd.read_csv(r'C:\\Users\\user\\Desktop\\sentiment\\BankCustomerChurn_Dataset.csv')"
   ]
  },
  {
   "cell_type": "code",
   "execution_count": 3,
   "id": "24d1b589",
   "metadata": {},
   "outputs": [
    {
     "data": {
      "text/html": [
       "<div>\n",
       "<style scoped>\n",
       "    .dataframe tbody tr th:only-of-type {\n",
       "        vertical-align: middle;\n",
       "    }\n",
       "\n",
       "    .dataframe tbody tr th {\n",
       "        vertical-align: top;\n",
       "    }\n",
       "\n",
       "    .dataframe thead th {\n",
       "        text-align: right;\n",
       "    }\n",
       "</style>\n",
       "<table border=\"1\" class=\"dataframe\">\n",
       "  <thead>\n",
       "    <tr style=\"text-align: right;\">\n",
       "      <th></th>\n",
       "      <th>RowNumber</th>\n",
       "      <th>CustomerId</th>\n",
       "      <th>Surname</th>\n",
       "      <th>CreditScore</th>\n",
       "      <th>Geography</th>\n",
       "      <th>Gender</th>\n",
       "      <th>Age</th>\n",
       "      <th>Tenure</th>\n",
       "      <th>Balance</th>\n",
       "      <th>NumOfProducts</th>\n",
       "      <th>HasCrCard</th>\n",
       "      <th>IsActiveMember</th>\n",
       "      <th>EstimatedSalary</th>\n",
       "      <th>Exited</th>\n",
       "    </tr>\n",
       "  </thead>\n",
       "  <tbody>\n",
       "    <tr>\n",
       "      <th>0</th>\n",
       "      <td>1</td>\n",
       "      <td>15634602</td>\n",
       "      <td>Hargrave</td>\n",
       "      <td>619</td>\n",
       "      <td>France</td>\n",
       "      <td>Female</td>\n",
       "      <td>42</td>\n",
       "      <td>2</td>\n",
       "      <td>0.00</td>\n",
       "      <td>1</td>\n",
       "      <td>1</td>\n",
       "      <td>1</td>\n",
       "      <td>101348.88</td>\n",
       "      <td>1</td>\n",
       "    </tr>\n",
       "    <tr>\n",
       "      <th>1</th>\n",
       "      <td>2</td>\n",
       "      <td>15647311</td>\n",
       "      <td>Hill</td>\n",
       "      <td>608</td>\n",
       "      <td>Spain</td>\n",
       "      <td>Female</td>\n",
       "      <td>41</td>\n",
       "      <td>1</td>\n",
       "      <td>83807.86</td>\n",
       "      <td>1</td>\n",
       "      <td>0</td>\n",
       "      <td>1</td>\n",
       "      <td>112542.58</td>\n",
       "      <td>0</td>\n",
       "    </tr>\n",
       "    <tr>\n",
       "      <th>2</th>\n",
       "      <td>3</td>\n",
       "      <td>15619304</td>\n",
       "      <td>Onio</td>\n",
       "      <td>502</td>\n",
       "      <td>France</td>\n",
       "      <td>Female</td>\n",
       "      <td>42</td>\n",
       "      <td>8</td>\n",
       "      <td>159660.80</td>\n",
       "      <td>3</td>\n",
       "      <td>1</td>\n",
       "      <td>0</td>\n",
       "      <td>113931.57</td>\n",
       "      <td>1</td>\n",
       "    </tr>\n",
       "    <tr>\n",
       "      <th>3</th>\n",
       "      <td>4</td>\n",
       "      <td>15701354</td>\n",
       "      <td>Boni</td>\n",
       "      <td>699</td>\n",
       "      <td>France</td>\n",
       "      <td>Female</td>\n",
       "      <td>39</td>\n",
       "      <td>1</td>\n",
       "      <td>0.00</td>\n",
       "      <td>2</td>\n",
       "      <td>0</td>\n",
       "      <td>0</td>\n",
       "      <td>93826.63</td>\n",
       "      <td>0</td>\n",
       "    </tr>\n",
       "    <tr>\n",
       "      <th>4</th>\n",
       "      <td>5</td>\n",
       "      <td>15737888</td>\n",
       "      <td>Mitchell</td>\n",
       "      <td>850</td>\n",
       "      <td>Spain</td>\n",
       "      <td>Female</td>\n",
       "      <td>43</td>\n",
       "      <td>2</td>\n",
       "      <td>125510.82</td>\n",
       "      <td>1</td>\n",
       "      <td>1</td>\n",
       "      <td>1</td>\n",
       "      <td>79084.10</td>\n",
       "      <td>0</td>\n",
       "    </tr>\n",
       "  </tbody>\n",
       "</table>\n",
       "</div>"
      ],
      "text/plain": [
       "   RowNumber  CustomerId   Surname  CreditScore Geography  Gender  Age  \\\n",
       "0          1    15634602  Hargrave          619    France  Female   42   \n",
       "1          2    15647311      Hill          608     Spain  Female   41   \n",
       "2          3    15619304      Onio          502    France  Female   42   \n",
       "3          4    15701354      Boni          699    France  Female   39   \n",
       "4          5    15737888  Mitchell          850     Spain  Female   43   \n",
       "\n",
       "   Tenure    Balance  NumOfProducts  HasCrCard  IsActiveMember  \\\n",
       "0       2       0.00              1          1               1   \n",
       "1       1   83807.86              1          0               1   \n",
       "2       8  159660.80              3          1               0   \n",
       "3       1       0.00              2          0               0   \n",
       "4       2  125510.82              1          1               1   \n",
       "\n",
       "   EstimatedSalary  Exited  \n",
       "0        101348.88       1  \n",
       "1        112542.58       0  \n",
       "2        113931.57       1  \n",
       "3         93826.63       0  \n",
       "4         79084.10       0  "
      ]
     },
     "execution_count": 3,
     "metadata": {},
     "output_type": "execute_result"
    }
   ],
   "source": [
    "data.head()"
   ]
  },
  {
   "cell_type": "code",
   "execution_count": 4,
   "id": "11bb707e",
   "metadata": {},
   "outputs": [
    {
     "data": {
      "text/html": [
       "<div>\n",
       "<style scoped>\n",
       "    .dataframe tbody tr th:only-of-type {\n",
       "        vertical-align: middle;\n",
       "    }\n",
       "\n",
       "    .dataframe tbody tr th {\n",
       "        vertical-align: top;\n",
       "    }\n",
       "\n",
       "    .dataframe thead th {\n",
       "        text-align: right;\n",
       "    }\n",
       "</style>\n",
       "<table border=\"1\" class=\"dataframe\">\n",
       "  <thead>\n",
       "    <tr style=\"text-align: right;\">\n",
       "      <th></th>\n",
       "      <th>RowNumber</th>\n",
       "      <th>CustomerId</th>\n",
       "      <th>Surname</th>\n",
       "      <th>CreditScore</th>\n",
       "      <th>Geography</th>\n",
       "      <th>Gender</th>\n",
       "      <th>Age</th>\n",
       "      <th>Tenure</th>\n",
       "      <th>Balance</th>\n",
       "      <th>NumOfProducts</th>\n",
       "      <th>HasCrCard</th>\n",
       "      <th>IsActiveMember</th>\n",
       "      <th>EstimatedSalary</th>\n",
       "      <th>Exited</th>\n",
       "    </tr>\n",
       "  </thead>\n",
       "  <tbody>\n",
       "    <tr>\n",
       "      <th>9995</th>\n",
       "      <td>9996</td>\n",
       "      <td>15606229</td>\n",
       "      <td>Obijiaku</td>\n",
       "      <td>771</td>\n",
       "      <td>France</td>\n",
       "      <td>Male</td>\n",
       "      <td>39</td>\n",
       "      <td>5</td>\n",
       "      <td>0.00</td>\n",
       "      <td>2</td>\n",
       "      <td>1</td>\n",
       "      <td>0</td>\n",
       "      <td>96270.64</td>\n",
       "      <td>0</td>\n",
       "    </tr>\n",
       "    <tr>\n",
       "      <th>9996</th>\n",
       "      <td>9997</td>\n",
       "      <td>15569892</td>\n",
       "      <td>Johnstone</td>\n",
       "      <td>516</td>\n",
       "      <td>France</td>\n",
       "      <td>Male</td>\n",
       "      <td>35</td>\n",
       "      <td>10</td>\n",
       "      <td>57369.61</td>\n",
       "      <td>1</td>\n",
       "      <td>1</td>\n",
       "      <td>1</td>\n",
       "      <td>101699.77</td>\n",
       "      <td>0</td>\n",
       "    </tr>\n",
       "    <tr>\n",
       "      <th>9997</th>\n",
       "      <td>9998</td>\n",
       "      <td>15584532</td>\n",
       "      <td>Liu</td>\n",
       "      <td>709</td>\n",
       "      <td>France</td>\n",
       "      <td>Female</td>\n",
       "      <td>36</td>\n",
       "      <td>7</td>\n",
       "      <td>0.00</td>\n",
       "      <td>1</td>\n",
       "      <td>0</td>\n",
       "      <td>1</td>\n",
       "      <td>42085.58</td>\n",
       "      <td>1</td>\n",
       "    </tr>\n",
       "    <tr>\n",
       "      <th>9998</th>\n",
       "      <td>9999</td>\n",
       "      <td>15682355</td>\n",
       "      <td>Sabbatini</td>\n",
       "      <td>772</td>\n",
       "      <td>Germany</td>\n",
       "      <td>Male</td>\n",
       "      <td>42</td>\n",
       "      <td>3</td>\n",
       "      <td>75075.31</td>\n",
       "      <td>2</td>\n",
       "      <td>1</td>\n",
       "      <td>0</td>\n",
       "      <td>92888.52</td>\n",
       "      <td>1</td>\n",
       "    </tr>\n",
       "    <tr>\n",
       "      <th>9999</th>\n",
       "      <td>10000</td>\n",
       "      <td>15628319</td>\n",
       "      <td>Walker</td>\n",
       "      <td>792</td>\n",
       "      <td>France</td>\n",
       "      <td>Female</td>\n",
       "      <td>28</td>\n",
       "      <td>4</td>\n",
       "      <td>130142.79</td>\n",
       "      <td>1</td>\n",
       "      <td>1</td>\n",
       "      <td>0</td>\n",
       "      <td>38190.78</td>\n",
       "      <td>0</td>\n",
       "    </tr>\n",
       "  </tbody>\n",
       "</table>\n",
       "</div>"
      ],
      "text/plain": [
       "      RowNumber  CustomerId    Surname  CreditScore Geography  Gender  Age  \\\n",
       "9995       9996    15606229   Obijiaku          771    France    Male   39   \n",
       "9996       9997    15569892  Johnstone          516    France    Male   35   \n",
       "9997       9998    15584532        Liu          709    France  Female   36   \n",
       "9998       9999    15682355  Sabbatini          772   Germany    Male   42   \n",
       "9999      10000    15628319     Walker          792    France  Female   28   \n",
       "\n",
       "      Tenure    Balance  NumOfProducts  HasCrCard  IsActiveMember  \\\n",
       "9995       5       0.00              2          1               0   \n",
       "9996      10   57369.61              1          1               1   \n",
       "9997       7       0.00              1          0               1   \n",
       "9998       3   75075.31              2          1               0   \n",
       "9999       4  130142.79              1          1               0   \n",
       "\n",
       "      EstimatedSalary  Exited  \n",
       "9995         96270.64       0  \n",
       "9996        101699.77       0  \n",
       "9997         42085.58       1  \n",
       "9998         92888.52       1  \n",
       "9999         38190.78       0  "
      ]
     },
     "execution_count": 4,
     "metadata": {},
     "output_type": "execute_result"
    }
   ],
   "source": [
    "data.tail()"
   ]
  },
  {
   "cell_type": "code",
   "execution_count": 5,
   "id": "9bf3839a",
   "metadata": {},
   "outputs": [
    {
     "name": "stdout",
     "output_type": "stream",
     "text": [
      "<class 'pandas.core.frame.DataFrame'>\n",
      "RangeIndex: 10000 entries, 0 to 9999\n",
      "Data columns (total 14 columns):\n",
      " #   Column           Non-Null Count  Dtype  \n",
      "---  ------           --------------  -----  \n",
      " 0   RowNumber        10000 non-null  int64  \n",
      " 1   CustomerId       10000 non-null  int64  \n",
      " 2   Surname          10000 non-null  object \n",
      " 3   CreditScore      10000 non-null  int64  \n",
      " 4   Geography        10000 non-null  object \n",
      " 5   Gender           10000 non-null  object \n",
      " 6   Age              10000 non-null  int64  \n",
      " 7   Tenure           10000 non-null  int64  \n",
      " 8   Balance          10000 non-null  float64\n",
      " 9   NumOfProducts    10000 non-null  int64  \n",
      " 10  HasCrCard        10000 non-null  int64  \n",
      " 11  IsActiveMember   10000 non-null  int64  \n",
      " 12  EstimatedSalary  10000 non-null  float64\n",
      " 13  Exited           10000 non-null  int64  \n",
      "dtypes: float64(2), int64(9), object(3)\n",
      "memory usage: 1.1+ MB\n"
     ]
    }
   ],
   "source": [
    "data.info()"
   ]
  },
  {
   "cell_type": "code",
   "execution_count": 6,
   "id": "594ea21c",
   "metadata": {},
   "outputs": [
    {
     "data": {
      "text/plain": [
       "(10000, 14)"
      ]
     },
     "execution_count": 6,
     "metadata": {},
     "output_type": "execute_result"
    }
   ],
   "source": [
    "data.shape"
   ]
  },
  {
   "cell_type": "code",
   "execution_count": 10,
   "id": "68f44b79",
   "metadata": {},
   "outputs": [
    {
     "data": {
      "text/plain": [
       "RowNumber          0\n",
       "CustomerId         0\n",
       "Surname            0\n",
       "CreditScore        0\n",
       "Geography          0\n",
       "Gender             0\n",
       "Age                0\n",
       "Tenure             0\n",
       "Balance            0\n",
       "NumOfProducts      0\n",
       "HasCrCard          0\n",
       "IsActiveMember     0\n",
       "EstimatedSalary    0\n",
       "Exited             0\n",
       "dtype: int64"
      ]
     },
     "execution_count": 10,
     "metadata": {},
     "output_type": "execute_result"
    }
   ],
   "source": [
    "data.isnull().sum()"
   ]
  },
  {
   "cell_type": "code",
   "execution_count": 11,
   "id": "3a333d13",
   "metadata": {},
   "outputs": [
    {
     "data": {
      "text/plain": [
       "0"
      ]
     },
     "execution_count": 11,
     "metadata": {},
     "output_type": "execute_result"
    }
   ],
   "source": [
    "data.duplicated().sum()"
   ]
  },
  {
   "cell_type": "code",
   "execution_count": 12,
   "id": "47754c41",
   "metadata": {},
   "outputs": [],
   "source": [
    "data.drop(columns=['RowNumber','Surname','CustomerId'],inplace=True)"
   ]
  },
  {
   "cell_type": "code",
   "execution_count": 13,
   "id": "f7426729",
   "metadata": {},
   "outputs": [
    {
     "data": {
      "text/html": [
       "<div>\n",
       "<style scoped>\n",
       "    .dataframe tbody tr th:only-of-type {\n",
       "        vertical-align: middle;\n",
       "    }\n",
       "\n",
       "    .dataframe tbody tr th {\n",
       "        vertical-align: top;\n",
       "    }\n",
       "\n",
       "    .dataframe thead th {\n",
       "        text-align: right;\n",
       "    }\n",
       "</style>\n",
       "<table border=\"1\" class=\"dataframe\">\n",
       "  <thead>\n",
       "    <tr style=\"text-align: right;\">\n",
       "      <th></th>\n",
       "      <th>CreditScore</th>\n",
       "      <th>Age</th>\n",
       "      <th>Tenure</th>\n",
       "      <th>Balance</th>\n",
       "      <th>NumOfProducts</th>\n",
       "      <th>HasCrCard</th>\n",
       "      <th>IsActiveMember</th>\n",
       "      <th>EstimatedSalary</th>\n",
       "      <th>Exited</th>\n",
       "    </tr>\n",
       "  </thead>\n",
       "  <tbody>\n",
       "    <tr>\n",
       "      <th>count</th>\n",
       "      <td>10000.000000</td>\n",
       "      <td>10000.000000</td>\n",
       "      <td>10000.000000</td>\n",
       "      <td>10000.000000</td>\n",
       "      <td>10000.000000</td>\n",
       "      <td>10000.00000</td>\n",
       "      <td>10000.000000</td>\n",
       "      <td>10000.000000</td>\n",
       "      <td>10000.000000</td>\n",
       "    </tr>\n",
       "    <tr>\n",
       "      <th>mean</th>\n",
       "      <td>650.528800</td>\n",
       "      <td>38.921800</td>\n",
       "      <td>5.012800</td>\n",
       "      <td>76485.889288</td>\n",
       "      <td>1.530200</td>\n",
       "      <td>0.70550</td>\n",
       "      <td>0.515100</td>\n",
       "      <td>100090.239881</td>\n",
       "      <td>0.203700</td>\n",
       "    </tr>\n",
       "    <tr>\n",
       "      <th>std</th>\n",
       "      <td>96.653299</td>\n",
       "      <td>10.487806</td>\n",
       "      <td>2.892174</td>\n",
       "      <td>62397.405202</td>\n",
       "      <td>0.581654</td>\n",
       "      <td>0.45584</td>\n",
       "      <td>0.499797</td>\n",
       "      <td>57510.492818</td>\n",
       "      <td>0.402769</td>\n",
       "    </tr>\n",
       "    <tr>\n",
       "      <th>min</th>\n",
       "      <td>350.000000</td>\n",
       "      <td>18.000000</td>\n",
       "      <td>0.000000</td>\n",
       "      <td>0.000000</td>\n",
       "      <td>1.000000</td>\n",
       "      <td>0.00000</td>\n",
       "      <td>0.000000</td>\n",
       "      <td>11.580000</td>\n",
       "      <td>0.000000</td>\n",
       "    </tr>\n",
       "    <tr>\n",
       "      <th>25%</th>\n",
       "      <td>584.000000</td>\n",
       "      <td>32.000000</td>\n",
       "      <td>3.000000</td>\n",
       "      <td>0.000000</td>\n",
       "      <td>1.000000</td>\n",
       "      <td>0.00000</td>\n",
       "      <td>0.000000</td>\n",
       "      <td>51002.110000</td>\n",
       "      <td>0.000000</td>\n",
       "    </tr>\n",
       "    <tr>\n",
       "      <th>50%</th>\n",
       "      <td>652.000000</td>\n",
       "      <td>37.000000</td>\n",
       "      <td>5.000000</td>\n",
       "      <td>97198.540000</td>\n",
       "      <td>1.000000</td>\n",
       "      <td>1.00000</td>\n",
       "      <td>1.000000</td>\n",
       "      <td>100193.915000</td>\n",
       "      <td>0.000000</td>\n",
       "    </tr>\n",
       "    <tr>\n",
       "      <th>75%</th>\n",
       "      <td>718.000000</td>\n",
       "      <td>44.000000</td>\n",
       "      <td>7.000000</td>\n",
       "      <td>127644.240000</td>\n",
       "      <td>2.000000</td>\n",
       "      <td>1.00000</td>\n",
       "      <td>1.000000</td>\n",
       "      <td>149388.247500</td>\n",
       "      <td>0.000000</td>\n",
       "    </tr>\n",
       "    <tr>\n",
       "      <th>max</th>\n",
       "      <td>850.000000</td>\n",
       "      <td>92.000000</td>\n",
       "      <td>10.000000</td>\n",
       "      <td>250898.090000</td>\n",
       "      <td>4.000000</td>\n",
       "      <td>1.00000</td>\n",
       "      <td>1.000000</td>\n",
       "      <td>199992.480000</td>\n",
       "      <td>1.000000</td>\n",
       "    </tr>\n",
       "  </tbody>\n",
       "</table>\n",
       "</div>"
      ],
      "text/plain": [
       "        CreditScore           Age        Tenure        Balance  NumOfProducts  \\\n",
       "count  10000.000000  10000.000000  10000.000000   10000.000000   10000.000000   \n",
       "mean     650.528800     38.921800      5.012800   76485.889288       1.530200   \n",
       "std       96.653299     10.487806      2.892174   62397.405202       0.581654   \n",
       "min      350.000000     18.000000      0.000000       0.000000       1.000000   \n",
       "25%      584.000000     32.000000      3.000000       0.000000       1.000000   \n",
       "50%      652.000000     37.000000      5.000000   97198.540000       1.000000   \n",
       "75%      718.000000     44.000000      7.000000  127644.240000       2.000000   \n",
       "max      850.000000     92.000000     10.000000  250898.090000       4.000000   \n",
       "\n",
       "         HasCrCard  IsActiveMember  EstimatedSalary        Exited  \n",
       "count  10000.00000    10000.000000     10000.000000  10000.000000  \n",
       "mean       0.70550        0.515100    100090.239881      0.203700  \n",
       "std        0.45584        0.499797     57510.492818      0.402769  \n",
       "min        0.00000        0.000000        11.580000      0.000000  \n",
       "25%        0.00000        0.000000     51002.110000      0.000000  \n",
       "50%        1.00000        1.000000    100193.915000      0.000000  \n",
       "75%        1.00000        1.000000    149388.247500      0.000000  \n",
       "max        1.00000        1.000000    199992.480000      1.000000  "
      ]
     },
     "execution_count": 13,
     "metadata": {},
     "output_type": "execute_result"
    }
   ],
   "source": [
    "data.describe()"
   ]
  },
  {
   "cell_type": "code",
   "execution_count": 14,
   "id": "1313cbce",
   "metadata": {},
   "outputs": [
    {
     "data": {
      "text/html": [
       "<div>\n",
       "<style scoped>\n",
       "    .dataframe tbody tr th:only-of-type {\n",
       "        vertical-align: middle;\n",
       "    }\n",
       "\n",
       "    .dataframe tbody tr th {\n",
       "        vertical-align: top;\n",
       "    }\n",
       "\n",
       "    .dataframe thead th {\n",
       "        text-align: right;\n",
       "    }\n",
       "</style>\n",
       "<table border=\"1\" class=\"dataframe\">\n",
       "  <thead>\n",
       "    <tr style=\"text-align: right;\">\n",
       "      <th></th>\n",
       "      <th>Geography</th>\n",
       "      <th>Gender</th>\n",
       "    </tr>\n",
       "  </thead>\n",
       "  <tbody>\n",
       "    <tr>\n",
       "      <th>count</th>\n",
       "      <td>10000</td>\n",
       "      <td>10000</td>\n",
       "    </tr>\n",
       "    <tr>\n",
       "      <th>unique</th>\n",
       "      <td>3</td>\n",
       "      <td>2</td>\n",
       "    </tr>\n",
       "    <tr>\n",
       "      <th>top</th>\n",
       "      <td>France</td>\n",
       "      <td>Male</td>\n",
       "    </tr>\n",
       "    <tr>\n",
       "      <th>freq</th>\n",
       "      <td>5014</td>\n",
       "      <td>5457</td>\n",
       "    </tr>\n",
       "  </tbody>\n",
       "</table>\n",
       "</div>"
      ],
      "text/plain": [
       "       Geography Gender\n",
       "count      10000  10000\n",
       "unique         3      2\n",
       "top       France   Male\n",
       "freq        5014   5457"
      ]
     },
     "execution_count": 14,
     "metadata": {},
     "output_type": "execute_result"
    }
   ],
   "source": [
    "data.describe(exclude='number')"
   ]
  },
  {
   "cell_type": "markdown",
   "id": "29bbaccb",
   "metadata": {},
   "source": [
    "### EDA - Exploratory Data Analysis"
   ]
  },
  {
   "cell_type": "code",
   "execution_count": 14,
   "id": "af8db7bc",
   "metadata": {},
   "outputs": [],
   "source": [
    "def age_group(age):\n",
    "    if age <=30:\n",
    "        return 'age_group (18-30)'\n",
    "    elif ((age >30) & (age<=45)):\n",
    "        return 'age_group (31-45)'\n",
    "    elif ((age >45) & (age<=60)):\n",
    "        return 'age_group (46-60)'\n",
    "    elif ((age >61) & (age<=75)):\n",
    "        return 'age_group (61-75)'\n",
    "    else:\n",
    "        return 'age_group (75+)'\n",
    "    \n",
    "\n",
    "def active(cust):\n",
    "    if cust ==0:\n",
    "        return 'Inactive'\n",
    "    else:\n",
    "        return 'Active'"
   ]
  },
  {
   "cell_type": "code",
   "execution_count": 30,
   "id": "8325361b",
   "metadata": {},
   "outputs": [],
   "source": [
    "data['age_group'] = data.Age.apply(age_group)\n",
    "data['active_mem'] = data.IsActiveMember.apply(active)"
   ]
  },
  {
   "cell_type": "code",
   "execution_count": 16,
   "id": "cdfabd55",
   "metadata": {},
   "outputs": [],
   "source": [
    "gender_churn = data.groupby(['Gender','Exited'])[['Exited']].size()\n",
    "gender_per_churn = gender_churn.groupby(level=[0]).apply(lambda x: x/x.sum()).reset_index()\n",
    "gender_per_churn.columns = ['Gender','Exited','Percent']\n",
    "\n",
    "country_churn = data.groupby(['Geography','Exited']).size().reset_index()\n",
    "country_churn.columns = ['Geography','Exited','count']\n",
    "\n",
    "product_churn = data.groupby(['NumOfProducts','Exited']).size().reset_index()\n",
    "product_churn.columns = ['Products','Exited','count']\n",
    "\n",
    "tenure_churn = data.groupby(['Tenure','Exited']).size()\n",
    "tenure_churn.columns = ['Tenure','Exited','count']\n",
    "tenure_churn_per = tenure_churn.groupby(level=[0]).apply(lambda x:x/x.sum()).reset_index()\n",
    "tenure_churn_per.columns = ['Tenure','Exited','percent']\n",
    "\n",
    "balance_churn = data.groupby(['Balance','Exited']).size()\n",
    "balance_churn_per = balance_churn.groupby(level=[0]).apply(lambda x:x/x.sum()).reset_index()\n",
    "balance_churn_per.columns = ['Balance','Exited','percent']\n",
    "\n",
    "cust_age = data.groupby(['age_group','Exited']).size()\n",
    "churn_perc = cust_age.groupby(level=[0]).apply(lambda x:x/x.sum()).reset_index()\n",
    "churn_perc.columns = ['age_group','Exited','churn_percent']\n",
    "\n",
    "active_member = data.groupby(['active_mem','Exited']).size()\n",
    "active_churn = active_member.groupby(level=[0]).apply(lambda x:x/x.sum()).reset_index()\n",
    "active_churn.columns = ['active_mem','Exited','percent']\n"
   ]
  },
  {
   "cell_type": "code",
   "execution_count": 19,
   "id": "46ff66ce",
   "metadata": {},
   "outputs": [],
   "source": [
    "churn_rate = (data['Exited'].sum()*100/len(data))"
   ]
  },
  {
   "cell_type": "code",
   "execution_count": 20,
   "id": "b3d2b2cb",
   "metadata": {},
   "outputs": [
    {
     "data": {
      "image/png": "[encoded data removed]",
      "text/plain": [
       "<Figure size 720x360 with 2 Axes>"
      ]
     },
     "metadata": {
      "needs_background": "light"
     },
     "output_type": "display_data"
    }
   ],
   "source": [
    "fig = plt.figure(figsize=(10, 5))\n",
    "ax1 = plt.subplot2grid((1, 2), (0, 0))\n",
    "ax2 = plt.subplot2grid((1, 2), (0, 1))\n",
    "value = churn_rate # replace with your actual value\n",
    "\n",
    "ax1.text(0.5, 0.5, f\"{value:,}\", fontsize=30, ha=\"center\", va=\"bottom\",color = 'orange')\n",
    "ax1.axis('off')\n",
    "\n",
    "sizes = [data.Exited[data['Exited']== 1].count(), data.Exited[data['Exited']==0].count()]\n",
    "ax2.pie(sizes,labels=['Exit','Retain'],autopct='%1.1f%%',shadow=True, startangle=90,radius=2.0)\n",
    "\n",
    "plt.tight_layout(pad=3.6,w_pad=6.0,h_pad=5.0,)\n",
    "plt.subplots_adjust(wspace=1.0)\n",
    "fig.suptitle('Churn Rate',fontsize=25,color='blue')\n",
    "\n",
    "plt.show()"
   ]
  },
  {
   "cell_type": "code",
   "execution_count": 32,
   "id": "1422647e",
   "metadata": {},
   "outputs": [
    {
     "data": {
      "image/png": "[encoded data removed]",
      "text/plain": [
       "<Figure size 864x648 with 1 Axes>"
      ]
     },
     "metadata": {
      "needs_background": "light"
     },
     "output_type": "display_data"
    }
   ],
   "source": [
    "plt.figure(figsize=(12,9))\n",
    "sns.barplot(data=churn_perc,x='age_group',y='churn_percent',hue='Exited')\n",
    "plt.title('Churn by age group',fontsize=20,color='blue')\n",
    "plt.show()"
   ]
  },
  {
   "cell_type": "code",
   "execution_count": 57,
   "id": "a3174e1e",
   "metadata": {},
   "outputs": [
    {
     "data": {
      "image/png": "[encoded data removed]",
      "text/plain": [
       "<Figure size 432x288 with 1 Axes>"
      ]
     },
     "metadata": {},
     "output_type": "display_data"
    }
   ],
   "source": [
    "active_churn = data[(data['active_mem']=='Active') & (data['Exited']==1)].shape[0]\n",
    "inactive_churn = data[(data['active_mem']=='Inactive') & (data['Exited']==1)].shape[0]\n",
    "cust = [active_churn,inactive_churn]\n",
    "\n",
    "\n",
    "plt.pie(cust,labels=['Active Member','Inactive Member'],autopct='%1.1f%%',shadow=True,radius=1.0,center=(0,1))\n",
    "plt.title('Distribution of Active Member',fontsize=20,color='blue')\n",
    "plt.tight_layout()"
   ]
  },
  {
   "cell_type": "code",
   "execution_count": 21,
   "id": "6d40e591",
   "metadata": {},
   "outputs": [],
   "source": [
    "crdit_churn = data[(data['HasCrCard']==1) & (data['Exited']==1)].shape[0]\n",
    "non_cred_churn = data[(data['HasCrCard']==0) & (data['Exited']==1)].shape[0]"
   ]
  },
  {
   "cell_type": "code",
   "execution_count": 22,
   "id": "17f7f156",
   "metadata": {},
   "outputs": [
    {
     "data": {
      "image/png": "[encoded data removed]",
      "text/plain": [
       "<Figure size 1080x1080 with 6 Axes>"
      ]
     },
     "metadata": {
      "needs_background": "light"
     },
     "output_type": "display_data"
    }
   ],
   "source": [
    "fig,axes = plt.subplots(nrows=3,ncols=2,sharex=False,sharey=False,figsize=(15,15))\n",
    "\n",
    "\n",
    "size = [crdit_churn,non_cred_churn]\n",
    "axes[0,0].pie(size,labels=['Credit Card Holder','Non credit card holder'],autopct='%1.1f%%',shadow=True,radius=1.0)\n",
    "axes[0,0].set_title('Churn by credit card',fontsize = 20,color='blue')\n",
    "\n",
    "churned_balances = data.loc[data['Exited'] == 1, 'Balance']\n",
    "\n",
    "# Plot the histogram\n",
    "sns.kdeplot(churned_balances, shade=True,ax=axes[0,1])\n",
    "sns.histplot(churned_balances, kde=False, color=\"orange\",ax=axes[0,1])\n",
    "axes[0,1].set_title(\"Distribution of Balances for Churned Customers\",color='blue',fontsize=18)\n",
    "axes[0,1].set_xlabel(\"Balance\")\n",
    "axes[0,1].set_ylabel(\"Density\")\n",
    "\n",
    "\n",
    "sns.barplot(data=gender_per_churn,x='Gender',y='Percent',hue='Exited',ax=axes[1,0])\n",
    "axes[1,0].set_title('Churn by gender',fontsize = 20,color='blue')\n",
    "\n",
    "sns.barplot(data=country_churn,x='Geography',y='count',hue='Exited',ax=axes[1,1])\n",
    "axes[1,1].set_title('Churn by Region',fontsize = 20,color='blue')\n",
    "\n",
    "sns.barplot(data=product_churn,x='Products',y='count',hue='Exited',ax=axes[2,0])\n",
    "axes[2,0].set_title('Churn by Product',fontsize = 20,color='blue')\n",
    "\n",
    "sns.barplot(data=tenure_churn_per,x='Tenure',y='percent',hue='Exited',ax=axes[2,1])\n",
    "axes[2,1].set_title('Churn by Tenure',fontsize = 20,color='blue')\n",
    "\n",
    "\n",
    "plt.tight_layout(pad=3.6,w_pad=2.6,h_pad=5.0,)\n",
    "plt.show()"
   ]
  },
  {
   "cell_type": "code",
   "execution_count": 23,
   "id": "450b31ec",
   "metadata": {},
   "outputs": [
    {
     "data": {
      "text/plain": [
       "CreditScore        0.027094\n",
       "Age                0.285323\n",
       "Tenure             0.014001\n",
       "Balance            0.118533\n",
       "NumOfProducts      0.047820\n",
       "HasCrCard          0.007138\n",
       "IsActiveMember     0.156128\n",
       "EstimatedSalary    0.012097\n",
       "Exited             1.000000\n",
       "dtype: float64"
      ]
     },
     "execution_count": 23,
     "metadata": {},
     "output_type": "execute_result"
    }
   ],
   "source": [
    "corr_val = np.abs(data.corrwith(data['Exited']))\n",
    "corr_val"
   ]
  },
  {
   "cell_type": "markdown",
   "id": "675af492",
   "metadata": {},
   "source": [
    "### Encoding Categorical variable"
   ]
  },
  {
   "cell_type": "code",
   "execution_count": 24,
   "id": "258d7793",
   "metadata": {},
   "outputs": [],
   "source": [
    "data = pd.get_dummies(data,drop_first=True)"
   ]
  },
  {
   "cell_type": "code",
   "execution_count": 25,
   "id": "9e2c51cc",
   "metadata": {},
   "outputs": [
    {
     "data": {
      "image/png": "[encoded data removed]",
      "text/plain": [
       "<Figure size 1080x1080 with 2 Axes>"
      ]
     },
     "metadata": {
      "needs_background": "light"
     },
     "output_type": "display_data"
    }
   ],
   "source": [
    "plt.figure(figsize=(15,15))\n",
    "sns.heatmap(data.corr(),annot=True,cmap=\"YlGnBu\")\n",
    "\n",
    "plt.show()"
   ]
  },
  {
   "cell_type": "markdown",
   "id": "59fd83b7",
   "metadata": {},
   "source": [
    "### Splitting dataset :"
   ]
  },
  {
   "cell_type": "markdown",
   "id": "0514850c",
   "metadata": {},
   "source": [
    "#### Feature (x) and target (y)"
   ]
  },
  {
   "cell_type": "code",
   "execution_count": 26,
   "id": "76d73cb3",
   "metadata": {},
   "outputs": [],
   "source": [
    "x= data[data.columns.difference(['Exited'])]\n",
    "y = data['Exited']"
   ]
  },
  {
   "cell_type": "code",
   "execution_count": 27,
   "id": "f66f3705",
   "metadata": {},
   "outputs": [
    {
     "name": "stdout",
     "output_type": "stream",
     "text": [
      "shape of x: (10000, 11)\n",
      "shape of y: (10000,)\n"
     ]
    }
   ],
   "source": [
    "print('shape of x:',x.shape)\n",
    "print('shape of y:',y.shape)"
   ]
  },
  {
   "cell_type": "markdown",
   "id": "0e19e123",
   "metadata": {},
   "source": [
    "####  Test and Train"
   ]
  },
  {
   "cell_type": "code",
   "execution_count": 29,
   "id": "556a1d22",
   "metadata": {},
   "outputs": [],
   "source": [
    "train_x,test_x,train_y,test_y = train_test_split(x,y,test_size=0.3,random_state=123)"
   ]
  },
  {
   "cell_type": "code",
   "execution_count": 30,
   "id": "c1b5cb8f",
   "metadata": {},
   "outputs": [
    {
     "name": "stdout",
     "output_type": "stream",
     "text": [
      "shape of train_x: (7000, 11)\n",
      "shape of train_y: (7000,)\n",
      "shape of test_x: (3000, 11)\n",
      "shape of test_y: (3000,)\n"
     ]
    }
   ],
   "source": [
    "print('shape of train_x:',train_x.shape)\n",
    "print('shape of train_y:',train_y.shape)\n",
    "print('shape of test_x:',test_x.shape)\n",
    "print('shape of test_y:',test_y.shape)"
   ]
  },
  {
   "cell_type": "markdown",
   "id": "83db9c87",
   "metadata": {},
   "source": [
    "### Resampling"
   ]
  },
  {
   "cell_type": "code",
   "execution_count": 31,
   "id": "bdeef419",
   "metadata": {},
   "outputs": [],
   "source": [
    "x_res,y_res = SMOTE().fit_resample(x,y)"
   ]
  },
  {
   "cell_type": "code",
   "execution_count": 32,
   "id": "71d86453",
   "metadata": {},
   "outputs": [
    {
     "data": {
      "text/plain": [
       "1    7963\n",
       "0    7963\n",
       "Name: Exited, dtype: int64"
      ]
     },
     "execution_count": 32,
     "metadata": {},
     "output_type": "execute_result"
    }
   ],
   "source": [
    "y_res.value_counts()"
   ]
  },
  {
   "cell_type": "code",
   "execution_count": 33,
   "id": "c7289789",
   "metadata": {},
   "outputs": [
    {
     "data": {
      "text/html": [
       "<div>\n",
       "<style scoped>\n",
       "    .dataframe tbody tr th:only-of-type {\n",
       "        vertical-align: middle;\n",
       "    }\n",
       "\n",
       "    .dataframe tbody tr th {\n",
       "        vertical-align: top;\n",
       "    }\n",
       "\n",
       "    .dataframe thead th {\n",
       "        text-align: right;\n",
       "    }\n",
       "</style>\n",
       "<table border=\"1\" class=\"dataframe\">\n",
       "  <thead>\n",
       "    <tr style=\"text-align: right;\">\n",
       "      <th></th>\n",
       "      <th>Age</th>\n",
       "      <th>Balance</th>\n",
       "      <th>CreditScore</th>\n",
       "      <th>EstimatedSalary</th>\n",
       "      <th>Gender_Male</th>\n",
       "      <th>Geography_Germany</th>\n",
       "      <th>Geography_Spain</th>\n",
       "      <th>HasCrCard</th>\n",
       "      <th>IsActiveMember</th>\n",
       "      <th>NumOfProducts</th>\n",
       "      <th>Tenure</th>\n",
       "    </tr>\n",
       "  </thead>\n",
       "  <tbody>\n",
       "    <tr>\n",
       "      <th>0</th>\n",
       "      <td>42</td>\n",
       "      <td>0.000000</td>\n",
       "      <td>619</td>\n",
       "      <td>101348.880000</td>\n",
       "      <td>0</td>\n",
       "      <td>0</td>\n",
       "      <td>0</td>\n",
       "      <td>1</td>\n",
       "      <td>1</td>\n",
       "      <td>1</td>\n",
       "      <td>2</td>\n",
       "    </tr>\n",
       "    <tr>\n",
       "      <th>1</th>\n",
       "      <td>41</td>\n",
       "      <td>83807.860000</td>\n",
       "      <td>608</td>\n",
       "      <td>112542.580000</td>\n",
       "      <td>0</td>\n",
       "      <td>0</td>\n",
       "      <td>1</td>\n",
       "      <td>0</td>\n",
       "      <td>1</td>\n",
       "      <td>1</td>\n",
       "      <td>1</td>\n",
       "    </tr>\n",
       "    <tr>\n",
       "      <th>2</th>\n",
       "      <td>42</td>\n",
       "      <td>159660.800000</td>\n",
       "      <td>502</td>\n",
       "      <td>113931.570000</td>\n",
       "      <td>0</td>\n",
       "      <td>0</td>\n",
       "      <td>0</td>\n",
       "      <td>1</td>\n",
       "      <td>0</td>\n",
       "      <td>3</td>\n",
       "      <td>8</td>\n",
       "    </tr>\n",
       "    <tr>\n",
       "      <th>3</th>\n",
       "      <td>39</td>\n",
       "      <td>0.000000</td>\n",
       "      <td>699</td>\n",
       "      <td>93826.630000</td>\n",
       "      <td>0</td>\n",
       "      <td>0</td>\n",
       "      <td>0</td>\n",
       "      <td>0</td>\n",
       "      <td>0</td>\n",
       "      <td>2</td>\n",
       "      <td>1</td>\n",
       "    </tr>\n",
       "    <tr>\n",
       "      <th>4</th>\n",
       "      <td>43</td>\n",
       "      <td>125510.820000</td>\n",
       "      <td>850</td>\n",
       "      <td>79084.100000</td>\n",
       "      <td>0</td>\n",
       "      <td>0</td>\n",
       "      <td>1</td>\n",
       "      <td>1</td>\n",
       "      <td>1</td>\n",
       "      <td>1</td>\n",
       "      <td>2</td>\n",
       "    </tr>\n",
       "    <tr>\n",
       "      <th>...</th>\n",
       "      <td>...</td>\n",
       "      <td>...</td>\n",
       "      <td>...</td>\n",
       "      <td>...</td>\n",
       "      <td>...</td>\n",
       "      <td>...</td>\n",
       "      <td>...</td>\n",
       "      <td>...</td>\n",
       "      <td>...</td>\n",
       "      <td>...</td>\n",
       "      <td>...</td>\n",
       "    </tr>\n",
       "    <tr>\n",
       "      <th>15921</th>\n",
       "      <td>41</td>\n",
       "      <td>0.000000</td>\n",
       "      <td>554</td>\n",
       "      <td>197941.001251</td>\n",
       "      <td>0</td>\n",
       "      <td>0</td>\n",
       "      <td>0</td>\n",
       "      <td>0</td>\n",
       "      <td>0</td>\n",
       "      <td>1</td>\n",
       "      <td>2</td>\n",
       "    </tr>\n",
       "    <tr>\n",
       "      <th>15922</th>\n",
       "      <td>38</td>\n",
       "      <td>98380.084072</td>\n",
       "      <td>770</td>\n",
       "      <td>97066.888044</td>\n",
       "      <td>0</td>\n",
       "      <td>0</td>\n",
       "      <td>0</td>\n",
       "      <td>1</td>\n",
       "      <td>0</td>\n",
       "      <td>1</td>\n",
       "      <td>3</td>\n",
       "    </tr>\n",
       "    <tr>\n",
       "      <th>15923</th>\n",
       "      <td>43</td>\n",
       "      <td>74777.525174</td>\n",
       "      <td>667</td>\n",
       "      <td>25792.750016</td>\n",
       "      <td>0</td>\n",
       "      <td>0</td>\n",
       "      <td>0</td>\n",
       "      <td>0</td>\n",
       "      <td>0</td>\n",
       "      <td>1</td>\n",
       "      <td>7</td>\n",
       "    </tr>\n",
       "    <tr>\n",
       "      <th>15924</th>\n",
       "      <td>48</td>\n",
       "      <td>114873.914013</td>\n",
       "      <td>667</td>\n",
       "      <td>153452.936452</td>\n",
       "      <td>0</td>\n",
       "      <td>1</td>\n",
       "      <td>0</td>\n",
       "      <td>1</td>\n",
       "      <td>0</td>\n",
       "      <td>1</td>\n",
       "      <td>6</td>\n",
       "    </tr>\n",
       "    <tr>\n",
       "      <th>15925</th>\n",
       "      <td>57</td>\n",
       "      <td>137018.626771</td>\n",
       "      <td>735</td>\n",
       "      <td>120732.606227</td>\n",
       "      <td>1</td>\n",
       "      <td>1</td>\n",
       "      <td>0</td>\n",
       "      <td>1</td>\n",
       "      <td>1</td>\n",
       "      <td>1</td>\n",
       "      <td>1</td>\n",
       "    </tr>\n",
       "  </tbody>\n",
       "</table>\n",
       "<p>15926 rows × 11 columns</p>\n",
       "</div>"
      ],
      "text/plain": [
       "       Age        Balance  CreditScore  EstimatedSalary  Gender_Male  \\\n",
       "0       42       0.000000          619    101348.880000            0   \n",
       "1       41   83807.860000          608    112542.580000            0   \n",
       "2       42  159660.800000          502    113931.570000            0   \n",
       "3       39       0.000000          699     93826.630000            0   \n",
       "4       43  125510.820000          850     79084.100000            0   \n",
       "...    ...            ...          ...              ...          ...   \n",
       "15921   41       0.000000          554    197941.001251            0   \n",
       "15922   38   98380.084072          770     97066.888044            0   \n",
       "15923   43   74777.525174          667     25792.750016            0   \n",
       "15924   48  114873.914013          667    153452.936452            0   \n",
       "15925   57  137018.626771          735    120732.606227            1   \n",
       "\n",
       "       Geography_Germany  Geography_Spain  HasCrCard  IsActiveMember  \\\n",
       "0                      0                0          1               1   \n",
       "1                      0                1          0               1   \n",
       "2                      0                0          1               0   \n",
       "3                      0                0          0               0   \n",
       "4                      0                1          1               1   \n",
       "...                  ...              ...        ...             ...   \n",
       "15921                  0                0          0               0   \n",
       "15922                  0                0          1               0   \n",
       "15923                  0                0          0               0   \n",
       "15924                  1                0          1               0   \n",
       "15925                  1                0          1               1   \n",
       "\n",
       "       NumOfProducts  Tenure  \n",
       "0                  1       2  \n",
       "1                  1       1  \n",
       "2                  3       8  \n",
       "3                  2       1  \n",
       "4                  1       2  \n",
       "...              ...     ...  \n",
       "15921              1       2  \n",
       "15922              1       3  \n",
       "15923              1       7  \n",
       "15924              1       6  \n",
       "15925              1       1  \n",
       "\n",
       "[15926 rows x 11 columns]"
      ]
     },
     "execution_count": 33,
     "metadata": {},
     "output_type": "execute_result"
    }
   ],
   "source": [
    "x_res"
   ]
  },
  {
   "cell_type": "code",
   "execution_count": 34,
   "id": "da65a52d",
   "metadata": {},
   "outputs": [],
   "source": [
    "train_x,test_x,train_y,test_y = train_test_split(x_res,y_res,test_size=0.3,random_state=123)"
   ]
  },
  {
   "cell_type": "code",
   "execution_count": 35,
   "id": "261ea66d",
   "metadata": {},
   "outputs": [
    {
     "data": {
      "text/plain": [
       "(11148, 11)"
      ]
     },
     "execution_count": 35,
     "metadata": {},
     "output_type": "execute_result"
    }
   ],
   "source": [
    "train_x.shape"
   ]
  },
  {
   "cell_type": "code",
   "execution_count": 36,
   "id": "0a239c57",
   "metadata": {},
   "outputs": [
    {
     "data": {
      "text/plain": [
       "(11148,)"
      ]
     },
     "execution_count": 36,
     "metadata": {},
     "output_type": "execute_result"
    }
   ],
   "source": [
    "train_y.shape"
   ]
  },
  {
   "cell_type": "code",
   "execution_count": 37,
   "id": "0cc244c8",
   "metadata": {},
   "outputs": [
    {
     "data": {
      "text/html": [
       "<div>\n",
       "<style scoped>\n",
       "    .dataframe tbody tr th:only-of-type {\n",
       "        vertical-align: middle;\n",
       "    }\n",
       "\n",
       "    .dataframe tbody tr th {\n",
       "        vertical-align: top;\n",
       "    }\n",
       "\n",
       "    .dataframe thead th {\n",
       "        text-align: right;\n",
       "    }\n",
       "</style>\n",
       "<table border=\"1\" class=\"dataframe\">\n",
       "  <thead>\n",
       "    <tr style=\"text-align: right;\">\n",
       "      <th></th>\n",
       "      <th>Age</th>\n",
       "      <th>Balance</th>\n",
       "      <th>CreditScore</th>\n",
       "      <th>EstimatedSalary</th>\n",
       "      <th>Gender_Male</th>\n",
       "      <th>Geography_Germany</th>\n",
       "      <th>Geography_Spain</th>\n",
       "      <th>HasCrCard</th>\n",
       "      <th>IsActiveMember</th>\n",
       "      <th>NumOfProducts</th>\n",
       "      <th>Tenure</th>\n",
       "    </tr>\n",
       "  </thead>\n",
       "  <tbody>\n",
       "    <tr>\n",
       "      <th>8117</th>\n",
       "      <td>34</td>\n",
       "      <td>0.00000</td>\n",
       "      <td>624</td>\n",
       "      <td>582.590000</td>\n",
       "      <td>0</td>\n",
       "      <td>0</td>\n",
       "      <td>1</td>\n",
       "      <td>1</td>\n",
       "      <td>0</td>\n",
       "      <td>1</td>\n",
       "      <td>6</td>\n",
       "    </tr>\n",
       "    <tr>\n",
       "      <th>8265</th>\n",
       "      <td>40</td>\n",
       "      <td>140306.38000</td>\n",
       "      <td>618</td>\n",
       "      <td>160618.610000</td>\n",
       "      <td>0</td>\n",
       "      <td>1</td>\n",
       "      <td>0</td>\n",
       "      <td>1</td>\n",
       "      <td>0</td>\n",
       "      <td>1</td>\n",
       "      <td>0</td>\n",
       "    </tr>\n",
       "    <tr>\n",
       "      <th>5455</th>\n",
       "      <td>45</td>\n",
       "      <td>116585.97000</td>\n",
       "      <td>805</td>\n",
       "      <td>189428.750000</td>\n",
       "      <td>0</td>\n",
       "      <td>1</td>\n",
       "      <td>0</td>\n",
       "      <td>1</td>\n",
       "      <td>0</td>\n",
       "      <td>1</td>\n",
       "      <td>9</td>\n",
       "    </tr>\n",
       "    <tr>\n",
       "      <th>10787</th>\n",
       "      <td>41</td>\n",
       "      <td>142756.51445</td>\n",
       "      <td>719</td>\n",
       "      <td>185839.429505</td>\n",
       "      <td>0</td>\n",
       "      <td>0</td>\n",
       "      <td>0</td>\n",
       "      <td>0</td>\n",
       "      <td>0</td>\n",
       "      <td>2</td>\n",
       "      <td>3</td>\n",
       "    </tr>\n",
       "    <tr>\n",
       "      <th>337</th>\n",
       "      <td>33</td>\n",
       "      <td>0.00000</td>\n",
       "      <td>649</td>\n",
       "      <td>2010.980000</td>\n",
       "      <td>1</td>\n",
       "      <td>0</td>\n",
       "      <td>0</td>\n",
       "      <td>1</td>\n",
       "      <td>0</td>\n",
       "      <td>2</td>\n",
       "      <td>2</td>\n",
       "    </tr>\n",
       "    <tr>\n",
       "      <th>...</th>\n",
       "      <td>...</td>\n",
       "      <td>...</td>\n",
       "      <td>...</td>\n",
       "      <td>...</td>\n",
       "      <td>...</td>\n",
       "      <td>...</td>\n",
       "      <td>...</td>\n",
       "      <td>...</td>\n",
       "      <td>...</td>\n",
       "      <td>...</td>\n",
       "      <td>...</td>\n",
       "    </tr>\n",
       "    <tr>\n",
       "      <th>6625</th>\n",
       "      <td>41</td>\n",
       "      <td>112119.48000</td>\n",
       "      <td>657</td>\n",
       "      <td>17536.820000</td>\n",
       "      <td>0</td>\n",
       "      <td>0</td>\n",
       "      <td>1</td>\n",
       "      <td>1</td>\n",
       "      <td>0</td>\n",
       "      <td>1</td>\n",
       "      <td>6</td>\n",
       "    </tr>\n",
       "    <tr>\n",
       "      <th>9921</th>\n",
       "      <td>36</td>\n",
       "      <td>65349.71000</td>\n",
       "      <td>757</td>\n",
       "      <td>64539.640000</td>\n",
       "      <td>1</td>\n",
       "      <td>1</td>\n",
       "      <td>0</td>\n",
       "      <td>0</td>\n",
       "      <td>0</td>\n",
       "      <td>1</td>\n",
       "      <td>1</td>\n",
       "    </tr>\n",
       "    <tr>\n",
       "      <th>2141</th>\n",
       "      <td>18</td>\n",
       "      <td>0.00000</td>\n",
       "      <td>674</td>\n",
       "      <td>55753.120000</td>\n",
       "      <td>1</td>\n",
       "      <td>0</td>\n",
       "      <td>0</td>\n",
       "      <td>1</td>\n",
       "      <td>1</td>\n",
       "      <td>2</td>\n",
       "      <td>7</td>\n",
       "    </tr>\n",
       "    <tr>\n",
       "      <th>3214</th>\n",
       "      <td>33</td>\n",
       "      <td>68193.72000</td>\n",
       "      <td>572</td>\n",
       "      <td>19998.310000</td>\n",
       "      <td>1</td>\n",
       "      <td>0</td>\n",
       "      <td>0</td>\n",
       "      <td>1</td>\n",
       "      <td>0</td>\n",
       "      <td>1</td>\n",
       "      <td>9</td>\n",
       "    </tr>\n",
       "    <tr>\n",
       "      <th>1626</th>\n",
       "      <td>28</td>\n",
       "      <td>0.00000</td>\n",
       "      <td>617</td>\n",
       "      <td>7597.830000</td>\n",
       "      <td>0</td>\n",
       "      <td>0</td>\n",
       "      <td>0</td>\n",
       "      <td>1</td>\n",
       "      <td>1</td>\n",
       "      <td>2</td>\n",
       "      <td>0</td>\n",
       "    </tr>\n",
       "  </tbody>\n",
       "</table>\n",
       "<p>4778 rows × 11 columns</p>\n",
       "</div>"
      ],
      "text/plain": [
       "       Age       Balance  CreditScore  EstimatedSalary  Gender_Male  \\\n",
       "8117    34       0.00000          624       582.590000            0   \n",
       "8265    40  140306.38000          618    160618.610000            0   \n",
       "5455    45  116585.97000          805    189428.750000            0   \n",
       "10787   41  142756.51445          719    185839.429505            0   \n",
       "337     33       0.00000          649      2010.980000            1   \n",
       "...    ...           ...          ...              ...          ...   \n",
       "6625    41  112119.48000          657     17536.820000            0   \n",
       "9921    36   65349.71000          757     64539.640000            1   \n",
       "2141    18       0.00000          674     55753.120000            1   \n",
       "3214    33   68193.72000          572     19998.310000            1   \n",
       "1626    28       0.00000          617      7597.830000            0   \n",
       "\n",
       "       Geography_Germany  Geography_Spain  HasCrCard  IsActiveMember  \\\n",
       "8117                   0                1          1               0   \n",
       "8265                   1                0          1               0   \n",
       "5455                   1                0          1               0   \n",
       "10787                  0                0          0               0   \n",
       "337                    0                0          1               0   \n",
       "...                  ...              ...        ...             ...   \n",
       "6625                   0                1          1               0   \n",
       "9921                   1                0          0               0   \n",
       "2141                   0                0          1               1   \n",
       "3214                   0                0          1               0   \n",
       "1626                   0                0          1               1   \n",
       "\n",
       "       NumOfProducts  Tenure  \n",
       "8117               1       6  \n",
       "8265               1       0  \n",
       "5455               1       9  \n",
       "10787              2       3  \n",
       "337                2       2  \n",
       "...              ...     ...  \n",
       "6625               1       6  \n",
       "9921               1       1  \n",
       "2141               2       7  \n",
       "3214               1       9  \n",
       "1626               2       0  \n",
       "\n",
       "[4778 rows x 11 columns]"
      ]
     },
     "execution_count": 37,
     "metadata": {},
     "output_type": "execute_result"
    }
   ],
   "source": [
    "test_x"
   ]
  },
  {
   "cell_type": "markdown",
   "id": "bbc12481",
   "metadata": {},
   "source": [
    "### Feature scaling"
   ]
  },
  {
   "cell_type": "code",
   "execution_count": 38,
   "id": "00080dff",
   "metadata": {},
   "outputs": [],
   "source": [
    "sc=StandardScaler()"
   ]
  },
  {
   "cell_type": "code",
   "execution_count": 39,
   "id": "d486de21",
   "metadata": {},
   "outputs": [],
   "source": [
    "st= sc.fit(train_x)"
   ]
  },
  {
   "cell_type": "code",
   "execution_count": 40,
   "id": "53311549",
   "metadata": {},
   "outputs": [
    {
     "data": {
      "text/html": [
       "<div>\n",
       "<style scoped>\n",
       "    .dataframe tbody tr th:only-of-type {\n",
       "        vertical-align: middle;\n",
       "    }\n",
       "\n",
       "    .dataframe tbody tr th {\n",
       "        vertical-align: top;\n",
       "    }\n",
       "\n",
       "    .dataframe thead th {\n",
       "        text-align: right;\n",
       "    }\n",
       "</style>\n",
       "<table border=\"1\" class=\"dataframe\">\n",
       "  <thead>\n",
       "    <tr style=\"text-align: right;\">\n",
       "      <th></th>\n",
       "      <th>Age</th>\n",
       "      <th>Balance</th>\n",
       "      <th>CreditScore</th>\n",
       "      <th>EstimatedSalary</th>\n",
       "      <th>Gender_Male</th>\n",
       "      <th>Geography_Germany</th>\n",
       "      <th>Geography_Spain</th>\n",
       "      <th>HasCrCard</th>\n",
       "      <th>IsActiveMember</th>\n",
       "      <th>NumOfProducts</th>\n",
       "      <th>Tenure</th>\n",
       "    </tr>\n",
       "  </thead>\n",
       "  <tbody>\n",
       "    <tr>\n",
       "      <th>0</th>\n",
       "      <td>-0.691154</td>\n",
       "      <td>-1.341091</td>\n",
       "      <td>-0.257287</td>\n",
       "      <td>-1.726898</td>\n",
       "      <td>-0.841572</td>\n",
       "      <td>-0.569754</td>\n",
       "      <td>2.175229</td>\n",
       "      <td>0.774374</td>\n",
       "      <td>-0.767867</td>\n",
       "      <td>-0.734350</td>\n",
       "      <td>0.434327</td>\n",
       "    </tr>\n",
       "    <tr>\n",
       "      <th>1</th>\n",
       "      <td>-0.089249</td>\n",
       "      <td>0.951751</td>\n",
       "      <td>-0.322694</td>\n",
       "      <td>1.042344</td>\n",
       "      <td>-0.841572</td>\n",
       "      <td>1.755143</td>\n",
       "      <td>-0.459722</td>\n",
       "      <td>0.774374</td>\n",
       "      <td>-0.767867</td>\n",
       "      <td>-0.734350</td>\n",
       "      <td>-1.775400</td>\n",
       "    </tr>\n",
       "    <tr>\n",
       "      <th>2</th>\n",
       "      <td>0.412338</td>\n",
       "      <td>0.564120</td>\n",
       "      <td>1.715842</td>\n",
       "      <td>1.540871</td>\n",
       "      <td>-0.841572</td>\n",
       "      <td>1.755143</td>\n",
       "      <td>-0.459722</td>\n",
       "      <td>0.774374</td>\n",
       "      <td>-0.767867</td>\n",
       "      <td>-0.734350</td>\n",
       "      <td>1.539191</td>\n",
       "    </tr>\n",
       "    <tr>\n",
       "      <th>3</th>\n",
       "      <td>0.011068</td>\n",
       "      <td>0.991791</td>\n",
       "      <td>0.778334</td>\n",
       "      <td>1.478762</td>\n",
       "      <td>-0.841572</td>\n",
       "      <td>-0.569754</td>\n",
       "      <td>-0.459722</td>\n",
       "      <td>-1.291365</td>\n",
       "      <td>-0.767867</td>\n",
       "      <td>1.018655</td>\n",
       "      <td>-0.670537</td>\n",
       "    </tr>\n",
       "    <tr>\n",
       "      <th>4</th>\n",
       "      <td>-0.791471</td>\n",
       "      <td>-1.341091</td>\n",
       "      <td>0.015245</td>\n",
       "      <td>-1.702181</td>\n",
       "      <td>1.188252</td>\n",
       "      <td>-0.569754</td>\n",
       "      <td>-0.459722</td>\n",
       "      <td>0.774374</td>\n",
       "      <td>-0.767867</td>\n",
       "      <td>1.018655</td>\n",
       "      <td>-1.038824</td>\n",
       "    </tr>\n",
       "    <tr>\n",
       "      <th>...</th>\n",
       "      <td>...</td>\n",
       "      <td>...</td>\n",
       "      <td>...</td>\n",
       "      <td>...</td>\n",
       "      <td>...</td>\n",
       "      <td>...</td>\n",
       "      <td>...</td>\n",
       "      <td>...</td>\n",
       "      <td>...</td>\n",
       "      <td>...</td>\n",
       "      <td>...</td>\n",
       "    </tr>\n",
       "    <tr>\n",
       "      <th>4773</th>\n",
       "      <td>0.011068</td>\n",
       "      <td>0.491130</td>\n",
       "      <td>0.102455</td>\n",
       "      <td>-1.433524</td>\n",
       "      <td>-0.841572</td>\n",
       "      <td>-0.569754</td>\n",
       "      <td>2.175229</td>\n",
       "      <td>0.774374</td>\n",
       "      <td>-0.767867</td>\n",
       "      <td>-0.734350</td>\n",
       "      <td>0.434327</td>\n",
       "    </tr>\n",
       "    <tr>\n",
       "      <th>4774</th>\n",
       "      <td>-0.490519</td>\n",
       "      <td>-0.273167</td>\n",
       "      <td>1.192582</td>\n",
       "      <td>-0.620194</td>\n",
       "      <td>1.188252</td>\n",
       "      <td>1.755143</td>\n",
       "      <td>-0.459722</td>\n",
       "      <td>-1.291365</td>\n",
       "      <td>-0.767867</td>\n",
       "      <td>-0.734350</td>\n",
       "      <td>-1.407112</td>\n",
       "    </tr>\n",
       "    <tr>\n",
       "      <th>4775</th>\n",
       "      <td>-2.296232</td>\n",
       "      <td>-1.341091</td>\n",
       "      <td>0.287777</td>\n",
       "      <td>-0.772234</td>\n",
       "      <td>1.188252</td>\n",
       "      <td>-0.569754</td>\n",
       "      <td>-0.459722</td>\n",
       "      <td>0.774374</td>\n",
       "      <td>1.302309</td>\n",
       "      <td>1.018655</td>\n",
       "      <td>0.802615</td>\n",
       "    </tr>\n",
       "    <tr>\n",
       "      <th>4776</th>\n",
       "      <td>-0.791471</td>\n",
       "      <td>-0.226691</td>\n",
       "      <td>-0.824152</td>\n",
       "      <td>-1.390931</td>\n",
       "      <td>1.188252</td>\n",
       "      <td>-0.569754</td>\n",
       "      <td>-0.459722</td>\n",
       "      <td>0.774374</td>\n",
       "      <td>-0.767867</td>\n",
       "      <td>-0.734350</td>\n",
       "      <td>1.539191</td>\n",
       "    </tr>\n",
       "    <tr>\n",
       "      <th>4777</th>\n",
       "      <td>-1.293058</td>\n",
       "      <td>-1.341091</td>\n",
       "      <td>-0.333596</td>\n",
       "      <td>-1.605507</td>\n",
       "      <td>-0.841572</td>\n",
       "      <td>-0.569754</td>\n",
       "      <td>-0.459722</td>\n",
       "      <td>0.774374</td>\n",
       "      <td>1.302309</td>\n",
       "      <td>1.018655</td>\n",
       "      <td>-1.775400</td>\n",
       "    </tr>\n",
       "  </tbody>\n",
       "</table>\n",
       "<p>4778 rows × 11 columns</p>\n",
       "</div>"
      ],
      "text/plain": [
       "           Age   Balance  CreditScore  EstimatedSalary  Gender_Male  \\\n",
       "0    -0.691154 -1.341091    -0.257287        -1.726898    -0.841572   \n",
       "1    -0.089249  0.951751    -0.322694         1.042344    -0.841572   \n",
       "2     0.412338  0.564120     1.715842         1.540871    -0.841572   \n",
       "3     0.011068  0.991791     0.778334         1.478762    -0.841572   \n",
       "4    -0.791471 -1.341091     0.015245        -1.702181     1.188252   \n",
       "...        ...       ...          ...              ...          ...   \n",
       "4773  0.011068  0.491130     0.102455        -1.433524    -0.841572   \n",
       "4774 -0.490519 -0.273167     1.192582        -0.620194     1.188252   \n",
       "4775 -2.296232 -1.341091     0.287777        -0.772234     1.188252   \n",
       "4776 -0.791471 -0.226691    -0.824152        -1.390931     1.188252   \n",
       "4777 -1.293058 -1.341091    -0.333596        -1.605507    -0.841572   \n",
       "\n",
       "      Geography_Germany  Geography_Spain  HasCrCard  IsActiveMember  \\\n",
       "0             -0.569754         2.175229   0.774374       -0.767867   \n",
       "1              1.755143        -0.459722   0.774374       -0.767867   \n",
       "2              1.755143        -0.459722   0.774374       -0.767867   \n",
       "3             -0.569754        -0.459722  -1.291365       -0.767867   \n",
       "4             -0.569754        -0.459722   0.774374       -0.767867   \n",
       "...                 ...              ...        ...             ...   \n",
       "4773          -0.569754         2.175229   0.774374       -0.767867   \n",
       "4774           1.755143        -0.459722  -1.291365       -0.767867   \n",
       "4775          -0.569754        -0.459722   0.774374        1.302309   \n",
       "4776          -0.569754        -0.459722   0.774374       -0.767867   \n",
       "4777          -0.569754        -0.459722   0.774374        1.302309   \n",
       "\n",
       "      NumOfProducts    Tenure  \n",
       "0         -0.734350  0.434327  \n",
       "1         -0.734350 -1.775400  \n",
       "2         -0.734350  1.539191  \n",
       "3          1.018655 -0.670537  \n",
       "4          1.018655 -1.038824  \n",
       "...             ...       ...  \n",
       "4773      -0.734350  0.434327  \n",
       "4774      -0.734350 -1.407112  \n",
       "4775       1.018655  0.802615  \n",
       "4776      -0.734350  1.539191  \n",
       "4777       1.018655 -1.775400  \n",
       "\n",
       "[4778 rows x 11 columns]"
      ]
     },
     "execution_count": 40,
     "metadata": {},
     "output_type": "execute_result"
    }
   ],
   "source": [
    "train_x_std = pd.DataFrame(st.transform(train_x),columns=train_x.columns)\n",
    "test_x_std = pd.DataFrame(st.transform(test_x),columns=test_x.columns)\n",
    "test_x_std"
   ]
  },
  {
   "cell_type": "markdown",
   "id": "4ae195c5",
   "metadata": {},
   "source": [
    "### Model Building"
   ]
  },
  {
   "cell_type": "code",
   "execution_count": 41,
   "id": "62e083cd",
   "metadata": {},
   "outputs": [],
   "source": [
    "def metric_table(y_true,y_pred,y_proba,model_name):\n",
    "    prec = precision_score(y_true,y_pred)\n",
    "    acc = accuracy_score(y_true,y_pred)\n",
    "    recall = recall_score(y_true,y_pred)\n",
    "    f1 = f1_score(y_true,y_pred)\n",
    "    roc = roc_auc_score(y_true,y_proba[:, 1])\n",
    "    metric = pd.DataFrame(data={\n",
    "        \"model\" : model_name,\n",
    "        \"Precision\" : prec,\n",
    "        \"Accuracy\" : acc,\n",
    "        \"Recall\" : recall,\n",
    "        \"F1-score\" : f1,\n",
    "        \"ROC_AUC\" : roc\n",
    "    },index=[0])\n",
    "    return metric"
   ]
  },
  {
   "cell_type": "code",
   "execution_count": 42,
   "id": "38ab5270",
   "metadata": {},
   "outputs": [],
   "source": [
    "def roc_curve_plot(Y_pred, Y_true, Y_pred_pobablities, model_name):\n",
    "    Y_pp = Y_pred_pobablities[:, 1]\n",
    "    fpr, tpr, threshold1 = roc_curve(Y_true, Y_pp )\n",
    "    \n",
    "    fig, ax = plt.subplots(nrows=1, ncols= 1, figsize = (7,5), constrained_layout = True)\n",
    "    ax.plot(fpr, tpr, label='ROC Score: {:.5f}'.format(roc_auc_score(Y_true, Y_pp)),color='Red')\n",
    "    ax.set_title(f\"{model_name} ROC Curve \", fontdict = {\"fontsize\": 18})\n",
    "    ax.set_xlabel(\"False Positive Rate\", fontdict = {\"fontsize\": 15} )\n",
    "    ax.set_ylabel(\"True Positive Rate\", fontdict = {\"fontsize\": 15})\n",
    "    ax.legend(loc = 4, fontsize = 14 )\n",
    "\n",
    "    plt.show()"
   ]
  },
  {
   "cell_type": "markdown",
   "id": "6f933893",
   "metadata": {},
   "source": [
    "#### Logistic Regression"
   ]
  },
  {
   "cell_type": "code",
   "execution_count": 43,
   "id": "0d144654",
   "metadata": {},
   "outputs": [],
   "source": [
    "import copy\n",
    "train_x_lr = copy.deepcopy(train_x_std)\n",
    "test_x_lr = copy.deepcopy(test_x_std)"
   ]
  },
  {
   "cell_type": "code",
   "execution_count": 44,
   "id": "e56043a7",
   "metadata": {},
   "outputs": [],
   "source": [
    "lr=LogisticRegression()\n",
    "\n",
    "lr_model = lr.fit(train_x_lr,train_y)"
   ]
  },
  {
   "cell_type": "code",
   "execution_count": 45,
   "id": "8ea79708",
   "metadata": {},
   "outputs": [],
   "source": [
    "lr_pred = lr_model.predict(test_x_lr)\n",
    "lr_prob = lr_model.predict_proba(test_x_lr)"
   ]
  },
  {
   "cell_type": "code",
   "execution_count": 46,
   "id": "98caf94f",
   "metadata": {},
   "outputs": [
    {
     "data": {
      "text/html": [
       "<div>\n",
       "<style scoped>\n",
       "    .dataframe tbody tr th:only-of-type {\n",
       "        vertical-align: middle;\n",
       "    }\n",
       "\n",
       "    .dataframe tbody tr th {\n",
       "        vertical-align: top;\n",
       "    }\n",
       "\n",
       "    .dataframe thead th {\n",
       "        text-align: right;\n",
       "    }\n",
       "</style>\n",
       "<table border=\"1\" class=\"dataframe\">\n",
       "  <thead>\n",
       "    <tr style=\"text-align: right;\">\n",
       "      <th></th>\n",
       "      <th>model</th>\n",
       "      <th>Precision</th>\n",
       "      <th>Accuracy</th>\n",
       "      <th>Recall</th>\n",
       "      <th>F1-score</th>\n",
       "      <th>ROC_AUC</th>\n",
       "    </tr>\n",
       "  </thead>\n",
       "  <tbody>\n",
       "    <tr>\n",
       "      <th>0</th>\n",
       "      <td>LogisticRegression</td>\n",
       "      <td>0.767997</td>\n",
       "      <td>0.776476</td>\n",
       "      <td>0.787431</td>\n",
       "      <td>0.777593</td>\n",
       "      <td>0.85802</td>\n",
       "    </tr>\n",
       "  </tbody>\n",
       "</table>\n",
       "</div>"
      ],
      "text/plain": [
       "                model  Precision  Accuracy    Recall  F1-score  ROC_AUC\n",
       "0  LogisticRegression   0.767997  0.776476  0.787431  0.777593  0.85802"
      ]
     },
     "execution_count": 46,
     "metadata": {},
     "output_type": "execute_result"
    }
   ],
   "source": [
    "metric_table(test_y,lr_pred,lr_prob,'LogisticRegression')"
   ]
  },
  {
   "cell_type": "code",
   "execution_count": 47,
   "id": "484c25f0",
   "metadata": {},
   "outputs": [
    {
     "data": {
      "image/png": "[encoded data removed]",
      "text/plain": [
       "<Figure size 504x360 with 1 Axes>"
      ]
     },
     "metadata": {
      "needs_background": "light"
     },
     "output_type": "display_data"
    }
   ],
   "source": [
    "roc_curve_plot(lr_pred,test_y,lr_prob,\"Logistic Regression\")"
   ]
  },
  {
   "cell_type": "markdown",
   "id": "c64cd6eb",
   "metadata": {},
   "source": [
    "### K-nearest neighbour"
   ]
  },
  {
   "cell_type": "code",
   "execution_count": 48,
   "id": "f600745d",
   "metadata": {},
   "outputs": [],
   "source": [
    "train_x_knn = copy.deepcopy(train_x_std)\n",
    "test_x_knn = copy.deepcopy(test_x_std)"
   ]
  },
  {
   "cell_type": "code",
   "execution_count": 49,
   "id": "692ca1a0",
   "metadata": {},
   "outputs": [],
   "source": [
    "knn= KNeighborsClassifier()"
   ]
  },
  {
   "cell_type": "code",
   "execution_count": 50,
   "id": "8de69592",
   "metadata": {},
   "outputs": [],
   "source": [
    "knn_model = knn.fit(train_x_knn,train_y)"
   ]
  },
  {
   "cell_type": "code",
   "execution_count": 51,
   "id": "0c824611",
   "metadata": {},
   "outputs": [],
   "source": [
    "knn_pred = knn_model.predict(test_x_knn)\n",
    "knn_prob = knn_model.predict_proba(test_x_knn)"
   ]
  },
  {
   "cell_type": "code",
   "execution_count": 52,
   "id": "863294d0",
   "metadata": {},
   "outputs": [
    {
     "data": {
      "text/html": [
       "<div>\n",
       "<style scoped>\n",
       "    .dataframe tbody tr th:only-of-type {\n",
       "        vertical-align: middle;\n",
       "    }\n",
       "\n",
       "    .dataframe tbody tr th {\n",
       "        vertical-align: top;\n",
       "    }\n",
       "\n",
       "    .dataframe thead th {\n",
       "        text-align: right;\n",
       "    }\n",
       "</style>\n",
       "<table border=\"1\" class=\"dataframe\">\n",
       "  <thead>\n",
       "    <tr style=\"text-align: right;\">\n",
       "      <th></th>\n",
       "      <th>model</th>\n",
       "      <th>Precision</th>\n",
       "      <th>Accuracy</th>\n",
       "      <th>Recall</th>\n",
       "      <th>F1-score</th>\n",
       "      <th>ROC_AUC</th>\n",
       "    </tr>\n",
       "  </thead>\n",
       "  <tbody>\n",
       "    <tr>\n",
       "      <th>0</th>\n",
       "      <td>KNN</td>\n",
       "      <td>0.796652</td>\n",
       "      <td>0.807869</td>\n",
       "      <td>0.82286</td>\n",
       "      <td>0.809544</td>\n",
       "      <td>0.881467</td>\n",
       "    </tr>\n",
       "  </tbody>\n",
       "</table>\n",
       "</div>"
      ],
      "text/plain": [
       "  model  Precision  Accuracy   Recall  F1-score   ROC_AUC\n",
       "0   KNN   0.796652  0.807869  0.82286  0.809544  0.881467"
      ]
     },
     "execution_count": 52,
     "metadata": {},
     "output_type": "execute_result"
    }
   ],
   "source": [
    "metric_table(test_y,knn_pred,knn_prob,\"KNN\")"
   ]
  },
  {
   "cell_type": "code",
   "execution_count": 53,
   "id": "f2cb39d6",
   "metadata": {},
   "outputs": [
    {
     "data": {
      "image/png": "[encoded data removed]",
      "text/plain": [
       "<Figure size 504x360 with 1 Axes>"
      ]
     },
     "metadata": {
      "needs_background": "light"
     },
     "output_type": "display_data"
    }
   ],
   "source": [
    "roc_curve_plot(knn_pred,test_y,knn_prob,\"K-Nearest Neighbour\")"
   ]
  },
  {
   "cell_type": "markdown",
   "id": "b5b72dd4",
   "metadata": {},
   "source": [
    "### SVC"
   ]
  },
  {
   "cell_type": "code",
   "execution_count": 54,
   "id": "1f930852",
   "metadata": {},
   "outputs": [],
   "source": [
    "train_x_svc = copy.deepcopy(train_x_std)\n",
    "test_x_svc = copy.deepcopy(test_x_std)"
   ]
  },
  {
   "cell_type": "code",
   "execution_count": 55,
   "id": "e26595ed",
   "metadata": {},
   "outputs": [],
   "source": [
    "svc = SVC(probability=True)"
   ]
  },
  {
   "cell_type": "code",
   "execution_count": 56,
   "id": "092c141f",
   "metadata": {},
   "outputs": [],
   "source": [
    "svc_model = svc.fit(train_x_svc,train_y)"
   ]
  },
  {
   "cell_type": "code",
   "execution_count": 57,
   "id": "837dbbdc",
   "metadata": {},
   "outputs": [],
   "source": [
    "svc_pred = svc_model.predict(test_x_svc)\n",
    "svc_prob = svc_model.predict_proba(test_x_svc)"
   ]
  },
  {
   "cell_type": "code",
   "execution_count": 58,
   "id": "7cfbc15f",
   "metadata": {},
   "outputs": [
    {
     "data": {
      "text/html": [
       "<div>\n",
       "<style scoped>\n",
       "    .dataframe tbody tr th:only-of-type {\n",
       "        vertical-align: middle;\n",
       "    }\n",
       "\n",
       "    .dataframe tbody tr th {\n",
       "        vertical-align: top;\n",
       "    }\n",
       "\n",
       "    .dataframe thead th {\n",
       "        text-align: right;\n",
       "    }\n",
       "</style>\n",
       "<table border=\"1\" class=\"dataframe\">\n",
       "  <thead>\n",
       "    <tr style=\"text-align: right;\">\n",
       "      <th></th>\n",
       "      <th>model</th>\n",
       "      <th>Precision</th>\n",
       "      <th>Accuracy</th>\n",
       "      <th>Recall</th>\n",
       "      <th>F1-score</th>\n",
       "      <th>ROC_AUC</th>\n",
       "    </tr>\n",
       "  </thead>\n",
       "  <tbody>\n",
       "    <tr>\n",
       "      <th>0</th>\n",
       "      <td>SVC</td>\n",
       "      <td>0.830789</td>\n",
       "      <td>0.830264</td>\n",
       "      <td>0.826234</td>\n",
       "      <td>0.828505</td>\n",
       "      <td>0.910936</td>\n",
       "    </tr>\n",
       "  </tbody>\n",
       "</table>\n",
       "</div>"
      ],
      "text/plain": [
       "  model  Precision  Accuracy    Recall  F1-score   ROC_AUC\n",
       "0   SVC   0.830789  0.830264  0.826234  0.828505  0.910936"
      ]
     },
     "execution_count": 58,
     "metadata": {},
     "output_type": "execute_result"
    }
   ],
   "source": [
    "metric_table(test_y,svc_pred,svc_prob,\"SVC\")"
   ]
  },
  {
   "cell_type": "code",
   "execution_count": 59,
   "id": "68409c19",
   "metadata": {},
   "outputs": [
    {
     "data": {
      "image/png": "[encoded data removed]",
      "text/plain": [
       "<Figure size 504x360 with 1 Axes>"
      ]
     },
     "metadata": {
      "needs_background": "light"
     },
     "output_type": "display_data"
    }
   ],
   "source": [
    "roc_curve_plot(svc_pred,test_y,svc_prob,\"SVC\")"
   ]
  },
  {
   "cell_type": "markdown",
   "id": "4978de03",
   "metadata": {},
   "source": [
    "### Decision Tree Classifier"
   ]
  },
  {
   "cell_type": "code",
   "execution_count": 60,
   "id": "10ddf49c",
   "metadata": {},
   "outputs": [],
   "source": [
    "dt = DecisionTreeClassifier()\n",
    "dt_model = dt.fit(train_x_std,train_y)"
   ]
  },
  {
   "cell_type": "code",
   "execution_count": 61,
   "id": "96d20bce",
   "metadata": {},
   "outputs": [],
   "source": [
    "dt_pred = dt_model.predict(test_x_std)\n",
    "dt_prob = dt_model.predict_proba(test_x_std)"
   ]
  },
  {
   "cell_type": "code",
   "execution_count": 62,
   "id": "18bda8ab",
   "metadata": {},
   "outputs": [
    {
     "data": {
      "text/html": [
       "<div>\n",
       "<style scoped>\n",
       "    .dataframe tbody tr th:only-of-type {\n",
       "        vertical-align: middle;\n",
       "    }\n",
       "\n",
       "    .dataframe tbody tr th {\n",
       "        vertical-align: top;\n",
       "    }\n",
       "\n",
       "    .dataframe thead th {\n",
       "        text-align: right;\n",
       "    }\n",
       "</style>\n",
       "<table border=\"1\" class=\"dataframe\">\n",
       "  <thead>\n",
       "    <tr style=\"text-align: right;\">\n",
       "      <th></th>\n",
       "      <th>model</th>\n",
       "      <th>Precision</th>\n",
       "      <th>Accuracy</th>\n",
       "      <th>Recall</th>\n",
       "      <th>F1-score</th>\n",
       "      <th>ROC_AUC</th>\n",
       "    </tr>\n",
       "  </thead>\n",
       "  <tbody>\n",
       "    <tr>\n",
       "      <th>0</th>\n",
       "      <td>Decision Tree Classifier</td>\n",
       "      <td>0.77943</td>\n",
       "      <td>0.78694</td>\n",
       "      <td>0.795867</td>\n",
       "      <td>0.787563</td>\n",
       "      <td>0.787007</td>\n",
       "    </tr>\n",
       "  </tbody>\n",
       "</table>\n",
       "</div>"
      ],
      "text/plain": [
       "                      model  Precision  Accuracy    Recall  F1-score   ROC_AUC\n",
       "0  Decision Tree Classifier    0.77943   0.78694  0.795867  0.787563  0.787007"
      ]
     },
     "execution_count": 62,
     "metadata": {},
     "output_type": "execute_result"
    }
   ],
   "source": [
    "metric_table(test_y,dt_pred,dt_prob,\"Decision Tree Classifier\")"
   ]
  },
  {
   "cell_type": "code",
   "execution_count": 63,
   "id": "0f988381",
   "metadata": {},
   "outputs": [
    {
     "data": {
      "image/png": "[encoded data removed]",
      "text/plain": [
       "<Figure size 504x360 with 1 Axes>"
      ]
     },
     "metadata": {
      "needs_background": "light"
     },
     "output_type": "display_data"
    }
   ],
   "source": [
    "roc_curve_plot(dt_pred,test_y,dt_prob,\"Decision Tree\")"
   ]
  },
  {
   "cell_type": "markdown",
   "id": "c2550a5d",
   "metadata": {},
   "source": [
    "### Random Forest"
   ]
  },
  {
   "cell_type": "code",
   "execution_count": 64,
   "id": "d3e96ba1",
   "metadata": {},
   "outputs": [],
   "source": [
    "rf = RandomForestClassifier()\n",
    "rf_model = rf.fit(train_x_std,train_y)"
   ]
  },
  {
   "cell_type": "code",
   "execution_count": 65,
   "id": "2ac9941d",
   "metadata": {},
   "outputs": [],
   "source": [
    "rf_pred= rf_model.predict(test_x_std)\n",
    "rf_prob = rf_model.predict_proba(test_x_std)"
   ]
  },
  {
   "cell_type": "code",
   "execution_count": 66,
   "id": "25fb4b06",
   "metadata": {},
   "outputs": [
    {
     "data": {
      "text/html": [
       "<div>\n",
       "<style scoped>\n",
       "    .dataframe tbody tr th:only-of-type {\n",
       "        vertical-align: middle;\n",
       "    }\n",
       "\n",
       "    .dataframe tbody tr th {\n",
       "        vertical-align: top;\n",
       "    }\n",
       "\n",
       "    .dataframe thead th {\n",
       "        text-align: right;\n",
       "    }\n",
       "</style>\n",
       "<table border=\"1\" class=\"dataframe\">\n",
       "  <thead>\n",
       "    <tr style=\"text-align: right;\">\n",
       "      <th></th>\n",
       "      <th>model</th>\n",
       "      <th>Precision</th>\n",
       "      <th>Accuracy</th>\n",
       "      <th>Recall</th>\n",
       "      <th>F1-score</th>\n",
       "      <th>ROC_AUC</th>\n",
       "    </tr>\n",
       "  </thead>\n",
       "  <tbody>\n",
       "    <tr>\n",
       "      <th>0</th>\n",
       "      <td>Random Forest</td>\n",
       "      <td>0.859553</td>\n",
       "      <td>0.857472</td>\n",
       "      <td>0.854149</td>\n",
       "      <td>0.856843</td>\n",
       "      <td>1.0</td>\n",
       "    </tr>\n",
       "  </tbody>\n",
       "</table>\n",
       "</div>"
      ],
      "text/plain": [
       "           model  Precision  Accuracy    Recall  F1-score  ROC_AUC\n",
       "0  Random Forest   0.859553  0.857472  0.854149  0.856843      1.0"
      ]
     },
     "execution_count": 66,
     "metadata": {},
     "output_type": "execute_result"
    }
   ],
   "source": [
    "metric_table(rf_pred,test_y,rf_prob,\"Random Forest\")"
   ]
  },
  {
   "cell_type": "code",
   "execution_count": 67,
   "id": "19b11484",
   "metadata": {},
   "outputs": [
    {
     "data": {
      "image/png": "[encoded data removed]",
      "text/plain": [
       "<Figure size 504x360 with 1 Axes>"
      ]
     },
     "metadata": {
      "needs_background": "light"
     },
     "output_type": "display_data"
    }
   ],
   "source": [
    "roc_curve_plot(test_y,rf_pred,rf_prob,\"Random Forest\")"
   ]
  },
  {
   "cell_type": "markdown",
   "id": "2cfe30c1",
   "metadata": {},
   "source": [
    "### Gradient Boosting"
   ]
  },
  {
   "cell_type": "code",
   "execution_count": 68,
   "id": "d3f21a81",
   "metadata": {},
   "outputs": [],
   "source": [
    "gb = GradientBoostingClassifier()\n",
    "gb_model = gb.fit(train_x_std,train_y)"
   ]
  },
  {
   "cell_type": "code",
   "execution_count": 69,
   "id": "f5cee101",
   "metadata": {},
   "outputs": [],
   "source": [
    "gb_pred = gb_model.predict(test_x_std)\n",
    "gb_prob = gb_model.predict_proba(test_x_std)"
   ]
  },
  {
   "cell_type": "code",
   "execution_count": 70,
   "id": "442d7a7f",
   "metadata": {},
   "outputs": [
    {
     "data": {
      "text/html": [
       "<div>\n",
       "<style scoped>\n",
       "    .dataframe tbody tr th:only-of-type {\n",
       "        vertical-align: middle;\n",
       "    }\n",
       "\n",
       "    .dataframe tbody tr th {\n",
       "        vertical-align: top;\n",
       "    }\n",
       "\n",
       "    .dataframe thead th {\n",
       "        text-align: right;\n",
       "    }\n",
       "</style>\n",
       "<table border=\"1\" class=\"dataframe\">\n",
       "  <thead>\n",
       "    <tr style=\"text-align: right;\">\n",
       "      <th></th>\n",
       "      <th>model</th>\n",
       "      <th>Precision</th>\n",
       "      <th>Accuracy</th>\n",
       "      <th>Recall</th>\n",
       "      <th>F1-score</th>\n",
       "      <th>ROC_AUC</th>\n",
       "    </tr>\n",
       "  </thead>\n",
       "  <tbody>\n",
       "    <tr>\n",
       "      <th>0</th>\n",
       "      <td>Gradient Boosting</td>\n",
       "      <td>0.832058</td>\n",
       "      <td>0.830682</td>\n",
       "      <td>0.82539</td>\n",
       "      <td>0.828711</td>\n",
       "      <td>0.915918</td>\n",
       "    </tr>\n",
       "  </tbody>\n",
       "</table>\n",
       "</div>"
      ],
      "text/plain": [
       "               model  Precision  Accuracy   Recall  F1-score   ROC_AUC\n",
       "0  Gradient Boosting   0.832058  0.830682  0.82539  0.828711  0.915918"
      ]
     },
     "execution_count": 70,
     "metadata": {},
     "output_type": "execute_result"
    }
   ],
   "source": [
    "metric_table(test_y,gb_pred,gb_prob,\"Gradient Boosting\")"
   ]
  },
  {
   "cell_type": "code",
   "execution_count": 71,
   "id": "1167a6ec",
   "metadata": {},
   "outputs": [
    {
     "data": {
      "image/png": "[encoded data removed]",
      "text/plain": [
       "<Figure size 504x360 with 1 Axes>"
      ]
     },
     "metadata": {
      "needs_background": "light"
     },
     "output_type": "display_data"
    }
   ],
   "source": [
    "roc_curve_plot(gb_pred,test_y,gb_prob,\"Gradient Boosting\")"
   ]
  },
  {
   "cell_type": "markdown",
   "id": "9660a234",
   "metadata": {},
   "source": [
    "### XGBoost"
   ]
  },
  {
   "cell_type": "code",
   "execution_count": 72,
   "id": "cc1ecbc0",
   "metadata": {},
   "outputs": [],
   "source": [
    "xg = XGBClassifier()\n",
    "xgb_model = xg.fit(train_x_std,train_y)"
   ]
  },
  {
   "cell_type": "code",
   "execution_count": 73,
   "id": "cec284b7",
   "metadata": {},
   "outputs": [],
   "source": [
    "xgb_pred = xgb_model.predict(test_x_std)\n",
    "xgb_prob = xgb_model.predict_proba(test_x_std)"
   ]
  },
  {
   "cell_type": "code",
   "execution_count": 74,
   "id": "956f5178",
   "metadata": {},
   "outputs": [
    {
     "data": {
      "text/html": [
       "<div>\n",
       "<style scoped>\n",
       "    .dataframe tbody tr th:only-of-type {\n",
       "        vertical-align: middle;\n",
       "    }\n",
       "\n",
       "    .dataframe tbody tr th {\n",
       "        vertical-align: top;\n",
       "    }\n",
       "\n",
       "    .dataframe thead th {\n",
       "        text-align: right;\n",
       "    }\n",
       "</style>\n",
       "<table border=\"1\" class=\"dataframe\">\n",
       "  <thead>\n",
       "    <tr style=\"text-align: right;\">\n",
       "      <th></th>\n",
       "      <th>model</th>\n",
       "      <th>Precision</th>\n",
       "      <th>Accuracy</th>\n",
       "      <th>Recall</th>\n",
       "      <th>F1-score</th>\n",
       "      <th>ROC_AUC</th>\n",
       "    </tr>\n",
       "  </thead>\n",
       "  <tbody>\n",
       "    <tr>\n",
       "      <th>0</th>\n",
       "      <td>XGBoost</td>\n",
       "      <td>0.853372</td>\n",
       "      <td>0.856844</td>\n",
       "      <td>0.859131</td>\n",
       "      <td>0.856242</td>\n",
       "      <td>0.9356</td>\n",
       "    </tr>\n",
       "  </tbody>\n",
       "</table>\n",
       "</div>"
      ],
      "text/plain": [
       "     model  Precision  Accuracy    Recall  F1-score  ROC_AUC\n",
       "0  XGBoost   0.853372  0.856844  0.859131  0.856242   0.9356"
      ]
     },
     "execution_count": 74,
     "metadata": {},
     "output_type": "execute_result"
    }
   ],
   "source": [
    "metric_table(test_y,xgb_pred,xgb_prob,\"XGBoost\")"
   ]
  },
  {
   "cell_type": "code",
   "execution_count": 75,
   "id": "818e8da9",
   "metadata": {},
   "outputs": [
    {
     "data": {
      "image/png": "[encoded data removed]",
      "text/plain": [
       "<Figure size 504x360 with 1 Axes>"
      ]
     },
     "metadata": {
      "needs_background": "light"
     },
     "output_type": "display_data"
    }
   ],
   "source": [
    "roc_curve_plot(xgb_pred,test_y,xgb_prob,\"XGBoost\")"
   ]
  },
  {
   "cell_type": "code",
   "execution_count": 76,
   "id": "907a984d",
   "metadata": {},
   "outputs": [],
   "source": [
    "def roc_summary_plot(Y_true, Y_probability = [], model_name = []):\n",
    "    for i in range(len(Y_probability)):\n",
    "        \n",
    "        fpr, tpr, threshold1 = roc_curve(Y_true,Y_probability[i][:,1] )\n",
    "        plt.style.use(\"seaborn-white\")\n",
    "        plt.figure( num = 1, figsize = (12, 9))\n",
    "        plt.title(\"ROC scores summary (tuned model)\", fontsize = 18)\n",
    "        plt.xlabel(\"False Positive Rate\" , fontdict = {\"fontsize\": 15})\n",
    "        plt.ylabel(\"True Positive Rate\" , fontdict = {\"fontsize\": 15})\n",
    "        plt.plot(fpr, tpr, label='{0} ROC Score: {1}'.format(model_name[i] ,round(roc_auc_score(Y_true, Y_probability[i][:,1] ) ,2)))\n",
    "        plt.legend(loc = 4, fontsize =13)\n",
    "    plt.show()"
   ]
  },
  {
   "cell_type": "code",
   "execution_count": 77,
   "id": "c0f70ebb",
   "metadata": {},
   "outputs": [
    {
     "data": {
      "image/png": "[encoded data removed]",
      "text/plain": [
       "<Figure size 864x648 with 1 Axes>"
      ]
     },
     "metadata": {},
     "output_type": "display_data"
    }
   ],
   "source": [
    "roc_summary_plot(test_y,[lr_prob,knn_prob,dt_prob,svc_prob,gb_prob,rf_prob,xgb_prob],\n",
    "                 [\"LogisticRegression\", \"KNearestNeighbors\", \"DecisionTree\",\"SVC\",\"Gradient Boosting\",\"Random Forest\", \"XGBClassifier\"])"
   ]
  },
  {
   "cell_type": "code",
   "execution_count": 78,
   "id": "04b12871",
   "metadata": {},
   "outputs": [],
   "source": [
    "table_lr = metric_table(test_y,lr_pred,lr_prob,'LogisticRegression')\n",
    "table_knn = metric_table(test_y,knn_pred,knn_prob,\"KNN\")\n",
    "table_dt = metric_table(test_y,dt_pred,dt_prob,\"Decision Tree\")\n",
    "table_svc = metric_table(test_y,svc_pred,svc_prob,\"SVC\")\n",
    "table_gb = metric_table(test_y,gb_pred,gb_prob,\"Gradient Boosting\")\n",
    "table_rf = metric_table(test_y,knn_pred,knn_prob,\"Random Forest\")\n",
    "table_xg = metric_table(test_y,xgb_pred,xgb_prob,\"XGBoost\")\n",
    "\n",
    "summary_table = pd.concat([table_lr,table_knn,table_dt,table_svc,table_gb,table_rf,table_xg])"
   ]
  },
  {
   "cell_type": "code",
   "execution_count": 79,
   "id": "b49fdea7",
   "metadata": {},
   "outputs": [
    {
     "data": {
      "text/html": [
       "<div>\n",
       "<style scoped>\n",
       "    .dataframe tbody tr th:only-of-type {\n",
       "        vertical-align: middle;\n",
       "    }\n",
       "\n",
       "    .dataframe tbody tr th {\n",
       "        vertical-align: top;\n",
       "    }\n",
       "\n",
       "    .dataframe thead th {\n",
       "        text-align: right;\n",
       "    }\n",
       "</style>\n",
       "<table border=\"1\" class=\"dataframe\">\n",
       "  <thead>\n",
       "    <tr style=\"text-align: right;\">\n",
       "      <th></th>\n",
       "      <th>model</th>\n",
       "      <th>Precision</th>\n",
       "      <th>Accuracy</th>\n",
       "      <th>Recall</th>\n",
       "      <th>F1-score</th>\n",
       "      <th>ROC_AUC</th>\n",
       "    </tr>\n",
       "  </thead>\n",
       "  <tbody>\n",
       "    <tr>\n",
       "      <th>0</th>\n",
       "      <td>LogisticRegression</td>\n",
       "      <td>0.767997</td>\n",
       "      <td>0.776476</td>\n",
       "      <td>0.787431</td>\n",
       "      <td>0.777593</td>\n",
       "      <td>0.858020</td>\n",
       "    </tr>\n",
       "    <tr>\n",
       "      <th>0</th>\n",
       "      <td>KNN</td>\n",
       "      <td>0.796652</td>\n",
       "      <td>0.807869</td>\n",
       "      <td>0.822860</td>\n",
       "      <td>0.809544</td>\n",
       "      <td>0.881467</td>\n",
       "    </tr>\n",
       "    <tr>\n",
       "      <th>0</th>\n",
       "      <td>Decision Tree</td>\n",
       "      <td>0.779430</td>\n",
       "      <td>0.786940</td>\n",
       "      <td>0.795867</td>\n",
       "      <td>0.787563</td>\n",
       "      <td>0.787007</td>\n",
       "    </tr>\n",
       "    <tr>\n",
       "      <th>0</th>\n",
       "      <td>SVC</td>\n",
       "      <td>0.830789</td>\n",
       "      <td>0.830264</td>\n",
       "      <td>0.826234</td>\n",
       "      <td>0.828505</td>\n",
       "      <td>0.910936</td>\n",
       "    </tr>\n",
       "    <tr>\n",
       "      <th>0</th>\n",
       "      <td>Gradient Boosting</td>\n",
       "      <td>0.832058</td>\n",
       "      <td>0.830682</td>\n",
       "      <td>0.825390</td>\n",
       "      <td>0.828711</td>\n",
       "      <td>0.915918</td>\n",
       "    </tr>\n",
       "    <tr>\n",
       "      <th>0</th>\n",
       "      <td>Random Forest</td>\n",
       "      <td>0.796652</td>\n",
       "      <td>0.807869</td>\n",
       "      <td>0.822860</td>\n",
       "      <td>0.809544</td>\n",
       "      <td>0.881467</td>\n",
       "    </tr>\n",
       "    <tr>\n",
       "      <th>0</th>\n",
       "      <td>XGBoost</td>\n",
       "      <td>0.853372</td>\n",
       "      <td>0.856844</td>\n",
       "      <td>0.859131</td>\n",
       "      <td>0.856242</td>\n",
       "      <td>0.935600</td>\n",
       "    </tr>\n",
       "  </tbody>\n",
       "</table>\n",
       "</div>"
      ],
      "text/plain": [
       "                model  Precision  Accuracy    Recall  F1-score   ROC_AUC\n",
       "0  LogisticRegression   0.767997  0.776476  0.787431  0.777593  0.858020\n",
       "0                 KNN   0.796652  0.807869  0.822860  0.809544  0.881467\n",
       "0       Decision Tree   0.779430  0.786940  0.795867  0.787563  0.787007\n",
       "0                 SVC   0.830789  0.830264  0.826234  0.828505  0.910936\n",
       "0   Gradient Boosting   0.832058  0.830682  0.825390  0.828711  0.915918\n",
       "0       Random Forest   0.796652  0.807869  0.822860  0.809544  0.881467\n",
       "0             XGBoost   0.853372  0.856844  0.859131  0.856242  0.935600"
      ]
     },
     "execution_count": 79,
     "metadata": {},
     "output_type": "execute_result"
    }
   ],
   "source": [
    "summary_table"
   ]
  },
  {
   "cell_type": "markdown",
   "id": "9649d560",
   "metadata": {},
   "source": [
    "### Feature Importance"
   ]
  },
  {
   "cell_type": "code",
   "execution_count": 80,
   "id": "8fe1cab3",
   "metadata": {},
   "outputs": [
    {
     "name": "stdout",
     "output_type": "stream",
     "text": [
      "[0.2279049  0.12449023 0.11763183 0.12563847 0.06009253 0.01409081\n",
      " 0.02909464 0.02069152 0.10581991 0.10008088 0.07446427]\n"
     ]
    }
   ],
   "source": [
    "print(rf.feature_importances_)"
   ]
  },
  {
   "cell_type": "code",
   "execution_count": 81,
   "id": "6acb8bca",
   "metadata": {},
   "outputs": [
    {
     "data": {
      "image/png": "[encoded data removed]",
      "text/plain": [
       "<Figure size 1152x648 with 1 Axes>"
      ]
     },
     "metadata": {},
     "output_type": "display_data"
    }
   ],
   "source": [
    "feat_importances = pd.Series(rf.feature_importances_, index=x.columns)\n",
    "plt.figure(figsize=(16, 9))\n",
    "feat_importances.nlargest(len(rf.feature_importances_)).plot(kind='bar')\n",
    "plt.xlabel('Importance score')\n",
    "plt.title('Features Importance - RandomForestRegressor')\n",
    "plt.show()"
   ]
  },
  {
   "cell_type": "code",
   "execution_count": 82,
   "id": "bd3e8fa3",
   "metadata": {},
   "outputs": [
    {
     "data": {
      "text/plain": [
       "Index(['Age', 'EstimatedSalary', 'Balance', 'CreditScore', 'IsActiveMember',\n",
       "       'NumOfProducts', 'Tenure', 'Gender_Male'],\n",
       "      dtype='object')"
      ]
     },
     "execution_count": 82,
     "metadata": {},
     "output_type": "execute_result"
    }
   ],
   "source": [
    "final_df =  feat_importances.nlargest(len(rf.feature_importances_)).index[:8]\n",
    "final_df\n"
   ]
  },
  {
   "cell_type": "code",
   "execution_count": 83,
   "id": "757bdb62",
   "metadata": {},
   "outputs": [
    {
     "data": {
      "text/html": [
       "<div>\n",
       "<style scoped>\n",
       "    .dataframe tbody tr th:only-of-type {\n",
       "        vertical-align: middle;\n",
       "    }\n",
       "\n",
       "    .dataframe tbody tr th {\n",
       "        vertical-align: top;\n",
       "    }\n",
       "\n",
       "    .dataframe thead th {\n",
       "        text-align: right;\n",
       "    }\n",
       "</style>\n",
       "<table border=\"1\" class=\"dataframe\">\n",
       "  <thead>\n",
       "    <tr style=\"text-align: right;\">\n",
       "      <th></th>\n",
       "      <th>Age</th>\n",
       "      <th>Balance</th>\n",
       "      <th>CreditScore</th>\n",
       "      <th>EstimatedSalary</th>\n",
       "      <th>Gender_Male</th>\n",
       "      <th>Geography_Germany</th>\n",
       "      <th>Geography_Spain</th>\n",
       "      <th>HasCrCard</th>\n",
       "      <th>IsActiveMember</th>\n",
       "      <th>NumOfProducts</th>\n",
       "      <th>Tenure</th>\n",
       "    </tr>\n",
       "  </thead>\n",
       "  <tbody>\n",
       "    <tr>\n",
       "      <th>3055</th>\n",
       "      <td>44</td>\n",
       "      <td>115049.150000</td>\n",
       "      <td>812</td>\n",
       "      <td>165038.410000</td>\n",
       "      <td>1</td>\n",
       "      <td>0</td>\n",
       "      <td>0</td>\n",
       "      <td>1</td>\n",
       "      <td>0</td>\n",
       "      <td>2</td>\n",
       "      <td>4</td>\n",
       "    </tr>\n",
       "    <tr>\n",
       "      <th>6982</th>\n",
       "      <td>50</td>\n",
       "      <td>0.000000</td>\n",
       "      <td>753</td>\n",
       "      <td>861.400000</td>\n",
       "      <td>0</td>\n",
       "      <td>0</td>\n",
       "      <td>0</td>\n",
       "      <td>1</td>\n",
       "      <td>1</td>\n",
       "      <td>2</td>\n",
       "      <td>4</td>\n",
       "    </tr>\n",
       "    <tr>\n",
       "      <th>1853</th>\n",
       "      <td>41</td>\n",
       "      <td>167545.320000</td>\n",
       "      <td>730</td>\n",
       "      <td>128246.810000</td>\n",
       "      <td>0</td>\n",
       "      <td>0</td>\n",
       "      <td>0</td>\n",
       "      <td>1</td>\n",
       "      <td>0</td>\n",
       "      <td>1</td>\n",
       "      <td>4</td>\n",
       "    </tr>\n",
       "    <tr>\n",
       "      <th>11276</th>\n",
       "      <td>35</td>\n",
       "      <td>129368.278676</td>\n",
       "      <td>601</td>\n",
       "      <td>8368.825945</td>\n",
       "      <td>0</td>\n",
       "      <td>0</td>\n",
       "      <td>0</td>\n",
       "      <td>0</td>\n",
       "      <td>1</td>\n",
       "      <td>1</td>\n",
       "      <td>1</td>\n",
       "    </tr>\n",
       "    <tr>\n",
       "      <th>9358</th>\n",
       "      <td>29</td>\n",
       "      <td>0.000000</td>\n",
       "      <td>837</td>\n",
       "      <td>41866.260000</td>\n",
       "      <td>0</td>\n",
       "      <td>0</td>\n",
       "      <td>0</td>\n",
       "      <td>1</td>\n",
       "      <td>1</td>\n",
       "      <td>2</td>\n",
       "      <td>9</td>\n",
       "    </tr>\n",
       "    <tr>\n",
       "      <th>...</th>\n",
       "      <td>...</td>\n",
       "      <td>...</td>\n",
       "      <td>...</td>\n",
       "      <td>...</td>\n",
       "      <td>...</td>\n",
       "      <td>...</td>\n",
       "      <td>...</td>\n",
       "      <td>...</td>\n",
       "      <td>...</td>\n",
       "      <td>...</td>\n",
       "      <td>...</td>\n",
       "    </tr>\n",
       "    <tr>\n",
       "      <th>12252</th>\n",
       "      <td>47</td>\n",
       "      <td>122736.210368</td>\n",
       "      <td>699</td>\n",
       "      <td>23.241371</td>\n",
       "      <td>0</td>\n",
       "      <td>1</td>\n",
       "      <td>0</td>\n",
       "      <td>0</td>\n",
       "      <td>0</td>\n",
       "      <td>1</td>\n",
       "      <td>4</td>\n",
       "    </tr>\n",
       "    <tr>\n",
       "      <th>1346</th>\n",
       "      <td>30</td>\n",
       "      <td>94443.770000</td>\n",
       "      <td>643</td>\n",
       "      <td>165614.400000</td>\n",
       "      <td>1</td>\n",
       "      <td>0</td>\n",
       "      <td>0</td>\n",
       "      <td>1</td>\n",
       "      <td>1</td>\n",
       "      <td>1</td>\n",
       "      <td>5</td>\n",
       "    </tr>\n",
       "    <tr>\n",
       "      <th>11646</th>\n",
       "      <td>44</td>\n",
       "      <td>114153.253910</td>\n",
       "      <td>595</td>\n",
       "      <td>97663.528510</td>\n",
       "      <td>0</td>\n",
       "      <td>1</td>\n",
       "      <td>0</td>\n",
       "      <td>0</td>\n",
       "      <td>0</td>\n",
       "      <td>1</td>\n",
       "      <td>3</td>\n",
       "    </tr>\n",
       "    <tr>\n",
       "      <th>15725</th>\n",
       "      <td>53</td>\n",
       "      <td>0.000000</td>\n",
       "      <td>658</td>\n",
       "      <td>149619.704681</td>\n",
       "      <td>0</td>\n",
       "      <td>0</td>\n",
       "      <td>0</td>\n",
       "      <td>1</td>\n",
       "      <td>0</td>\n",
       "      <td>1</td>\n",
       "      <td>2</td>\n",
       "    </tr>\n",
       "    <tr>\n",
       "      <th>3582</th>\n",
       "      <td>35</td>\n",
       "      <td>0.000000</td>\n",
       "      <td>686</td>\n",
       "      <td>8816.370000</td>\n",
       "      <td>1</td>\n",
       "      <td>0</td>\n",
       "      <td>0</td>\n",
       "      <td>1</td>\n",
       "      <td>0</td>\n",
       "      <td>1</td>\n",
       "      <td>4</td>\n",
       "    </tr>\n",
       "  </tbody>\n",
       "</table>\n",
       "<p>11148 rows × 11 columns</p>\n",
       "</div>"
      ],
      "text/plain": [
       "       Age        Balance  CreditScore  EstimatedSalary  Gender_Male  \\\n",
       "3055    44  115049.150000          812    165038.410000            1   \n",
       "6982    50       0.000000          753       861.400000            0   \n",
       "1853    41  167545.320000          730    128246.810000            0   \n",
       "11276   35  129368.278676          601      8368.825945            0   \n",
       "9358    29       0.000000          837     41866.260000            0   \n",
       "...    ...            ...          ...              ...          ...   \n",
       "12252   47  122736.210368          699        23.241371            0   \n",
       "1346    30   94443.770000          643    165614.400000            1   \n",
       "11646   44  114153.253910          595     97663.528510            0   \n",
       "15725   53       0.000000          658    149619.704681            0   \n",
       "3582    35       0.000000          686      8816.370000            1   \n",
       "\n",
       "       Geography_Germany  Geography_Spain  HasCrCard  IsActiveMember  \\\n",
       "3055                   0                0          1               0   \n",
       "6982                   0                0          1               1   \n",
       "1853                   0                0          1               0   \n",
       "11276                  0                0          0               1   \n",
       "9358                   0                0          1               1   \n",
       "...                  ...              ...        ...             ...   \n",
       "12252                  1                0          0               0   \n",
       "1346                   0                0          1               1   \n",
       "11646                  1                0          0               0   \n",
       "15725                  0                0          1               0   \n",
       "3582                   0                0          1               0   \n",
       "\n",
       "       NumOfProducts  Tenure  \n",
       "3055               2       4  \n",
       "6982               2       4  \n",
       "1853               1       4  \n",
       "11276              1       1  \n",
       "9358               2       9  \n",
       "...              ...     ...  \n",
       "12252              1       4  \n",
       "1346               1       5  \n",
       "11646              1       3  \n",
       "15725              1       2  \n",
       "3582               1       4  \n",
       "\n",
       "[11148 rows x 11 columns]"
      ]
     },
     "execution_count": 83,
     "metadata": {},
     "output_type": "execute_result"
    }
   ],
   "source": [
    "train_x"
   ]
  },
  {
   "cell_type": "code",
   "execution_count": 84,
   "id": "3b449d49",
   "metadata": {},
   "outputs": [],
   "source": [
    "cv = StratifiedKFold(n_splits=5,random_state=123,shuffle=True)"
   ]
  },
  {
   "cell_type": "code",
   "execution_count": 85,
   "id": "f20635ab",
   "metadata": {},
   "outputs": [
    {
     "name": "stdout",
     "output_type": "stream",
     "text": [
      "Fitting 5 folds for each of 576 candidates, totalling 2880 fits\n"
     ]
    },
    {
     "data": {
      "text/plain": [
       "GridSearchCV(cv=5, estimator=RandomForestClassifier(), n_jobs=-1,\n",
       "             param_grid={'max_depth': array([ 2,  4,  6,  8, 10, 12, 14, 16, 18, 20, 22, 24, 26, 28, 30, 32, 34,\n",
       "       36, 38, 40, 42, 44, 46, 48]),\n",
       "                         'n_estimators': array([ 2,  4,  6,  8, 10, 12, 14, 16, 18, 20, 22, 24, 26, 28, 30, 32, 34,\n",
       "       36, 38, 40, 42, 44, 46, 48])},\n",
       "             scoring='roc_auc', verbose=True)"
      ]
     },
     "execution_count": 85,
     "metadata": {},
     "output_type": "execute_result"
    }
   ],
   "source": [
    "param_grid = {'n_estimators':np.arange(2,50,2),'max_depth':np.arange(2,50,2)}\n",
    "grid =GridSearchCV(RandomForestClassifier(),param_grid=param_grid,n_jobs=-1,cv=5,scoring='roc_auc',verbose=True)\n",
    "grid.fit(train_x_std[final_df],train_y)"
   ]
  },
  {
   "cell_type": "code",
   "execution_count": 86,
   "id": "9418a645",
   "metadata": {},
   "outputs": [
    {
     "data": {
      "text/plain": [
       "{'max_depth': 38, 'n_estimators': 46}"
      ]
     },
     "execution_count": 86,
     "metadata": {},
     "output_type": "execute_result"
    }
   ],
   "source": [
    "grid.best_params_"
   ]
  },
  {
   "cell_type": "code",
   "execution_count": 87,
   "id": "7ff29338",
   "metadata": {},
   "outputs": [
    {
     "data": {
      "text/html": [
       "<div>\n",
       "<style scoped>\n",
       "    .dataframe tbody tr th:only-of-type {\n",
       "        vertical-align: middle;\n",
       "    }\n",
       "\n",
       "    .dataframe tbody tr th {\n",
       "        vertical-align: top;\n",
       "    }\n",
       "\n",
       "    .dataframe thead th {\n",
       "        text-align: right;\n",
       "    }\n",
       "</style>\n",
       "<table border=\"1\" class=\"dataframe\">\n",
       "  <thead>\n",
       "    <tr style=\"text-align: right;\">\n",
       "      <th></th>\n",
       "      <th>Age</th>\n",
       "      <th>EstimatedSalary</th>\n",
       "      <th>Balance</th>\n",
       "      <th>CreditScore</th>\n",
       "      <th>IsActiveMember</th>\n",
       "      <th>NumOfProducts</th>\n",
       "      <th>Tenure</th>\n",
       "      <th>Gender_Male</th>\n",
       "    </tr>\n",
       "  </thead>\n",
       "  <tbody>\n",
       "    <tr>\n",
       "      <th>8117</th>\n",
       "      <td>34</td>\n",
       "      <td>582.590000</td>\n",
       "      <td>0.00000</td>\n",
       "      <td>624</td>\n",
       "      <td>0</td>\n",
       "      <td>1</td>\n",
       "      <td>6</td>\n",
       "      <td>0</td>\n",
       "    </tr>\n",
       "    <tr>\n",
       "      <th>8265</th>\n",
       "      <td>40</td>\n",
       "      <td>160618.610000</td>\n",
       "      <td>140306.38000</td>\n",
       "      <td>618</td>\n",
       "      <td>0</td>\n",
       "      <td>1</td>\n",
       "      <td>0</td>\n",
       "      <td>0</td>\n",
       "    </tr>\n",
       "    <tr>\n",
       "      <th>5455</th>\n",
       "      <td>45</td>\n",
       "      <td>189428.750000</td>\n",
       "      <td>116585.97000</td>\n",
       "      <td>805</td>\n",
       "      <td>0</td>\n",
       "      <td>1</td>\n",
       "      <td>9</td>\n",
       "      <td>0</td>\n",
       "    </tr>\n",
       "    <tr>\n",
       "      <th>10787</th>\n",
       "      <td>41</td>\n",
       "      <td>185839.429505</td>\n",
       "      <td>142756.51445</td>\n",
       "      <td>719</td>\n",
       "      <td>0</td>\n",
       "      <td>2</td>\n",
       "      <td>3</td>\n",
       "      <td>0</td>\n",
       "    </tr>\n",
       "    <tr>\n",
       "      <th>337</th>\n",
       "      <td>33</td>\n",
       "      <td>2010.980000</td>\n",
       "      <td>0.00000</td>\n",
       "      <td>649</td>\n",
       "      <td>0</td>\n",
       "      <td>2</td>\n",
       "      <td>2</td>\n",
       "      <td>1</td>\n",
       "    </tr>\n",
       "    <tr>\n",
       "      <th>...</th>\n",
       "      <td>...</td>\n",
       "      <td>...</td>\n",
       "      <td>...</td>\n",
       "      <td>...</td>\n",
       "      <td>...</td>\n",
       "      <td>...</td>\n",
       "      <td>...</td>\n",
       "      <td>...</td>\n",
       "    </tr>\n",
       "    <tr>\n",
       "      <th>6625</th>\n",
       "      <td>41</td>\n",
       "      <td>17536.820000</td>\n",
       "      <td>112119.48000</td>\n",
       "      <td>657</td>\n",
       "      <td>0</td>\n",
       "      <td>1</td>\n",
       "      <td>6</td>\n",
       "      <td>0</td>\n",
       "    </tr>\n",
       "    <tr>\n",
       "      <th>9921</th>\n",
       "      <td>36</td>\n",
       "      <td>64539.640000</td>\n",
       "      <td>65349.71000</td>\n",
       "      <td>757</td>\n",
       "      <td>0</td>\n",
       "      <td>1</td>\n",
       "      <td>1</td>\n",
       "      <td>1</td>\n",
       "    </tr>\n",
       "    <tr>\n",
       "      <th>2141</th>\n",
       "      <td>18</td>\n",
       "      <td>55753.120000</td>\n",
       "      <td>0.00000</td>\n",
       "      <td>674</td>\n",
       "      <td>1</td>\n",
       "      <td>2</td>\n",
       "      <td>7</td>\n",
       "      <td>1</td>\n",
       "    </tr>\n",
       "    <tr>\n",
       "      <th>3214</th>\n",
       "      <td>33</td>\n",
       "      <td>19998.310000</td>\n",
       "      <td>68193.72000</td>\n",
       "      <td>572</td>\n",
       "      <td>0</td>\n",
       "      <td>1</td>\n",
       "      <td>9</td>\n",
       "      <td>1</td>\n",
       "    </tr>\n",
       "    <tr>\n",
       "      <th>1626</th>\n",
       "      <td>28</td>\n",
       "      <td>7597.830000</td>\n",
       "      <td>0.00000</td>\n",
       "      <td>617</td>\n",
       "      <td>1</td>\n",
       "      <td>2</td>\n",
       "      <td>0</td>\n",
       "      <td>0</td>\n",
       "    </tr>\n",
       "  </tbody>\n",
       "</table>\n",
       "<p>4778 rows × 8 columns</p>\n",
       "</div>"
      ],
      "text/plain": [
       "       Age  EstimatedSalary       Balance  CreditScore  IsActiveMember  \\\n",
       "8117    34       582.590000       0.00000          624               0   \n",
       "8265    40    160618.610000  140306.38000          618               0   \n",
       "5455    45    189428.750000  116585.97000          805               0   \n",
       "10787   41    185839.429505  142756.51445          719               0   \n",
       "337     33      2010.980000       0.00000          649               0   \n",
       "...    ...              ...           ...          ...             ...   \n",
       "6625    41     17536.820000  112119.48000          657               0   \n",
       "9921    36     64539.640000   65349.71000          757               0   \n",
       "2141    18     55753.120000       0.00000          674               1   \n",
       "3214    33     19998.310000   68193.72000          572               0   \n",
       "1626    28      7597.830000       0.00000          617               1   \n",
       "\n",
       "       NumOfProducts  Tenure  Gender_Male  \n",
       "8117               1       6            0  \n",
       "8265               1       0            0  \n",
       "5455               1       9            0  \n",
       "10787              2       3            0  \n",
       "337                2       2            1  \n",
       "...              ...     ...          ...  \n",
       "6625               1       6            0  \n",
       "9921               1       1            1  \n",
       "2141               2       7            1  \n",
       "3214               1       9            1  \n",
       "1626               2       0            0  \n",
       "\n",
       "[4778 rows x 8 columns]"
      ]
     },
     "execution_count": 87,
     "metadata": {},
     "output_type": "execute_result"
    }
   ],
   "source": [
    "test_x[final_df]"
   ]
  },
  {
   "cell_type": "code",
   "execution_count": 88,
   "id": "15fd4f9c",
   "metadata": {},
   "outputs": [],
   "source": [
    "rf = RandomForestClassifier(n_estimators=48,max_depth=24)"
   ]
  },
  {
   "cell_type": "code",
   "execution_count": 89,
   "id": "7761342b",
   "metadata": {},
   "outputs": [],
   "source": [
    "rf = rf.fit(train_x_std[final_df],train_y)"
   ]
  },
  {
   "cell_type": "code",
   "execution_count": 91,
   "id": "840d93d5",
   "metadata": {},
   "outputs": [],
   "source": [
    "new_pred = rf.predict(test_x_std[final_df])\n",
    "new_prob = rf.predict_proba(test_x_std[final_df])"
   ]
  },
  {
   "cell_type": "code",
   "execution_count": 92,
   "id": "803959f1",
   "metadata": {},
   "outputs": [
    {
     "data": {
      "text/html": [
       "<div>\n",
       "<style scoped>\n",
       "    .dataframe tbody tr th:only-of-type {\n",
       "        vertical-align: middle;\n",
       "    }\n",
       "\n",
       "    .dataframe tbody tr th {\n",
       "        vertical-align: top;\n",
       "    }\n",
       "\n",
       "    .dataframe thead th {\n",
       "        text-align: right;\n",
       "    }\n",
       "</style>\n",
       "<table border=\"1\" class=\"dataframe\">\n",
       "  <thead>\n",
       "    <tr style=\"text-align: right;\">\n",
       "      <th></th>\n",
       "      <th>model</th>\n",
       "      <th>Precision</th>\n",
       "      <th>Accuracy</th>\n",
       "      <th>Recall</th>\n",
       "      <th>F1-score</th>\n",
       "      <th>ROC_AUC</th>\n",
       "    </tr>\n",
       "  </thead>\n",
       "  <tbody>\n",
       "    <tr>\n",
       "      <th>0</th>\n",
       "      <td>Random Forest</td>\n",
       "      <td>0.840488</td>\n",
       "      <td>0.842403</td>\n",
       "      <td>0.842261</td>\n",
       "      <td>0.841373</td>\n",
       "      <td>0.920284</td>\n",
       "    </tr>\n",
       "  </tbody>\n",
       "</table>\n",
       "</div>"
      ],
      "text/plain": [
       "           model  Precision  Accuracy    Recall  F1-score   ROC_AUC\n",
       "0  Random Forest   0.840488  0.842403  0.842261  0.841373  0.920284"
      ]
     },
     "execution_count": 92,
     "metadata": {},
     "output_type": "execute_result"
    }
   ],
   "source": [
    "metric_table(test_y,new_pred,new_prob,\"Random Forest\")"
   ]
  },
  {
   "cell_type": "code",
   "execution_count": 93,
   "id": "06bc127a",
   "metadata": {},
   "outputs": [],
   "source": [
    "\n",
    "XGB_parameters = {\n",
    "    'n_estimators': [100, 400],\n",
    "    'max_depth': [3, 6],\n",
    "    'learning_rate': [0.05, 0.20],\n",
    "    'min_child_weight': [1, 10]}\n",
    "\n",
    "grid_xg = GridSearchCV(estimator=XGBClassifier(),param_grid=XGB_parameters,cv=5,scoring='roc_auc',verbose=True)"
   ]
  },
  {
   "cell_type": "code",
   "execution_count": 94,
   "id": "b8306adb",
   "metadata": {},
   "outputs": [
    {
     "name": "stdout",
     "output_type": "stream",
     "text": [
      "Fitting 5 folds for each of 16 candidates, totalling 80 fits\n"
     ]
    }
   ],
   "source": [
    "grid_xg = grid_xg.fit(train_x_std[final_df],train_y)"
   ]
  },
  {
   "cell_type": "code",
   "execution_count": 95,
   "id": "d40c820d",
   "metadata": {},
   "outputs": [
    {
     "data": {
      "text/plain": [
       "{'learning_rate': 0.2,\n",
       " 'max_depth': 6,\n",
       " 'min_child_weight': 1,\n",
       " 'n_estimators': 400}"
      ]
     },
     "execution_count": 95,
     "metadata": {},
     "output_type": "execute_result"
    }
   ],
   "source": [
    "grid_xg.best_params_"
   ]
  },
  {
   "cell_type": "code",
   "execution_count": 96,
   "id": "30b18424",
   "metadata": {},
   "outputs": [
    {
     "data": {
      "text/plain": [
       "XGBClassifier(base_score=None, booster=None, callbacks=None,\n",
       "              colsample_bylevel=None, colsample_bynode=None,\n",
       "              colsample_bytree=None, early_stopping_rounds=None,\n",
       "              enable_categorical=False, eval_metric=None, feature_types=None,\n",
       "              gamma=None, gpu_id=None, grow_policy=None, importance_type=None,\n",
       "              interaction_constraints=None, learning_rate=0.2, max_bin=None,\n",
       "              max_cat_threshold=None, max_cat_to_onehot=None,\n",
       "              max_delta_step=None, max_depth=6, max_leaves=None,\n",
       "              min_child_weight=1, missing=nan, monotone_constraints=None,\n",
       "              n_estimators=400, n_jobs=None, num_parallel_tree=None,\n",
       "              predictor=None, random_state=None, ...)"
      ]
     },
     "execution_count": 96,
     "metadata": {},
     "output_type": "execute_result"
    }
   ],
   "source": [
    "best_XGB = grid_xg.best_estimator_\n",
    "best_XGB.fit(train_x[final_df], train_y)\n"
   ]
  },
  {
   "cell_type": "code",
   "execution_count": 98,
   "id": "421fa673",
   "metadata": {},
   "outputs": [],
   "source": [
    "xg_pred_new =  best_XGB.predict(test_x[final_df])\n",
    "xg_prob_new = best_XGB.predict_proba(test_x[final_df])"
   ]
  },
  {
   "cell_type": "code",
   "execution_count": 99,
   "id": "a4304f11",
   "metadata": {},
   "outputs": [
    {
     "data": {
      "text/html": [
       "<div>\n",
       "<style scoped>\n",
       "    .dataframe tbody tr th:only-of-type {\n",
       "        vertical-align: middle;\n",
       "    }\n",
       "\n",
       "    .dataframe tbody tr th {\n",
       "        vertical-align: top;\n",
       "    }\n",
       "\n",
       "    .dataframe thead th {\n",
       "        text-align: right;\n",
       "    }\n",
       "</style>\n",
       "<table border=\"1\" class=\"dataframe\">\n",
       "  <thead>\n",
       "    <tr style=\"text-align: right;\">\n",
       "      <th></th>\n",
       "      <th>model</th>\n",
       "      <th>Precision</th>\n",
       "      <th>Accuracy</th>\n",
       "      <th>Recall</th>\n",
       "      <th>F1-score</th>\n",
       "      <th>ROC_AUC</th>\n",
       "    </tr>\n",
       "  </thead>\n",
       "  <tbody>\n",
       "    <tr>\n",
       "      <th>0</th>\n",
       "      <td>XGBoost</td>\n",
       "      <td>0.840815</td>\n",
       "      <td>0.847007</td>\n",
       "      <td>0.853226</td>\n",
       "      <td>0.846975</td>\n",
       "      <td>0.923753</td>\n",
       "    </tr>\n",
       "  </tbody>\n",
       "</table>\n",
       "</div>"
      ],
      "text/plain": [
       "     model  Precision  Accuracy    Recall  F1-score   ROC_AUC\n",
       "0  XGBoost   0.840815  0.847007  0.853226  0.846975  0.923753"
      ]
     },
     "execution_count": 99,
     "metadata": {},
     "output_type": "execute_result"
    }
   ],
   "source": [
    "metric_table(test_y,xg_pred_new,xg_prob_new,\"XGBoost\")"
   ]
  },
  {
   "cell_type": "code",
   "execution_count": 100,
   "id": "c4aa519d",
   "metadata": {},
   "outputs": [
    {
     "data": {
      "text/plain": [
       "XGBClassifier(base_score=None, booster=None, callbacks=None,\n",
       "              colsample_bylevel=None, colsample_bynode=None,\n",
       "              colsample_bytree=None, early_stopping_rounds=None,\n",
       "              enable_categorical=False, eval_metric=None, feature_types=None,\n",
       "              gamma=None, gpu_id=None, grow_policy=None, importance_type=None,\n",
       "              interaction_constraints=None, learning_rate=0.2, max_bin=None,\n",
       "              max_cat_threshold=None, max_cat_to_onehot=None,\n",
       "              max_delta_step=None, max_depth=6, max_leaves=None,\n",
       "              min_child_weight=1, missing=nan, monotone_constraints=None,\n",
       "              n_estimators=400, n_jobs=None, num_parallel_tree=None,\n",
       "              predictor=None, random_state=None, ...)"
      ]
     },
     "execution_count": 100,
     "metadata": {},
     "output_type": "execute_result"
    }
   ],
   "source": [
    "grid_xg.best_estimator_"
   ]
  },
  {
   "cell_type": "code",
   "execution_count": 101,
   "id": "fbe4f8d2",
   "metadata": {},
   "outputs": [],
   "source": [
    "score_1 = metric_table(test_y,new_pred,new_prob,\"Random Forest\")\n",
    "score_2 = metric_table(test_y,xg_pred_new,xg_prob_new,\"XGBoost\")\n",
    "score = pd.concat([score_1,score_2])"
   ]
  },
  {
   "cell_type": "code",
   "execution_count": 102,
   "id": "0c7e4926",
   "metadata": {},
   "outputs": [
    {
     "data": {
      "image/png": "[encoded data removed]",
      "text/plain": [
       "<Figure size 864x648 with 1 Axes>"
      ]
     },
     "metadata": {},
     "output_type": "display_data"
    }
   ],
   "source": [
    "roc_summary_plot(test_y,[new_prob,xg_prob_new],['Random Forest','XGBoost'])"
   ]
  },
  {
   "cell_type": "markdown",
   "id": "b7453071",
   "metadata": {},
   "source": [
    "### Interpretations :\n",
    "    1. Customer of age between 40-60 more leaves the bank.\n",
    "    2. Female customers are more likely to leave the bank compared to male customers.\n",
    "    3. Customers who buy more than two products from banks are most likely to churn.\n",
    "    4. Inactive customers leaves the bank more.This is a sure sign of not sticking with the bank much.\n",
    "    5. Customers who hold credit card are more likely to churn.Perhaps it may be because of disatifaction with credit card\n",
    "       features of customer services. \n",
    "    6. Customers who have little to no money in their accounts more leaves the bank, and may have churned due to financial \n",
    "       difficulties or dissatisfaction with the bank's services. \n"
   ]
  },
  {
   "cell_type": "markdown",
   "id": "eac78661",
   "metadata": {},
   "source": [
    "#### Predictions were made with a total of 7 classification models. The highest head was taken with XGBoost.       \n",
    "     Accuracy scores and ROC metric were calculated for each model and results were displayed.\n"
   ]
  },
  {
   "cell_type": "code",
   "execution_count": null,
   "id": "ba60ea72",
   "metadata": {},
   "outputs": [],
   "source": []
  }
 ],
 "metadata": {
  "kernelspec": {
   "display_name": "Python 3 (ipykernel)",
   "language": "python",
   "name": "python3"
  },
  "language_info": {
   "codemirror_mode": {
    "name": "ipython",
    "version": 3
   },
   "file_extension": ".py",
   "mimetype": "text/x-python",
   "name": "python",
   "nbconvert_exporter": "python",
   "pygments_lexer": "ipython3",
   "version": "3.9.12"
  }
 },
 "nbformat": 4,
 "nbformat_minor": 5
}
